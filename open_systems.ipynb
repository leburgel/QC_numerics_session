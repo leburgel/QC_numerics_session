{
 "cells": [
  {
   "cell_type": "markdown",
   "metadata": {},
   "source": [
    "# Simulating open quantum systems"
   ]
  },
  {
   "cell_type": "markdown",
   "metadata": {},
   "source": [
    "## Contents\n",
    "\n",
    "- [Introduction](#intro)\n",
    "    - [Open quantum systems](#open_systems)\n",
    "    - [Dynamics in open systems](#open_dynamics)\n",
    "- [Simulating open quantum systems](#open_simulation)\n",
    "    - [Basic quantum objects and operations](#qobjects)\n",
    "    - [Solving the master equation](#master_eq)\n",
    "- [Example: the quantum teleportation circuit](#example1)\n",
    "    - [Defining a quantum circuit](#teleportation)\n",
    "    - [Gate-level circuit simulation](#gates)\n",
    "- [Example: pulse sequences and noisy components](#example2)\n",
    "    - [Implementing a circuit on a quantum device](#devices)\n",
    "    - [Noisy pulse-level circuit simulation](#noise)"
   ]
  },
  {
   "cell_type": "markdown",
   "metadata": {},
   "source": [
    "## Introduction <a name=\"intro\"></a>"
   ]
  },
  {
   "cell_type": "markdown",
   "metadata": {},
   "source": [
    "### Open quantum systems <a name=\"open_systems\"></a>"
   ]
  },
  {
   "cell_type": "markdown",
   "metadata": {},
   "source": [
    "In the lecture notes, we have have seen that the state of a subsystem of a composite quantum\n",
    "system is naturally described by a density operator, which is a positive semi-definite\n",
    "operator with unit trace. In particular, given a composite system $\\mathcal{H}_A \\otimes\n",
    "\\mathcal{H}_B$ in a state $|\\psi\\rangle_{AB}$, the measurement statistics of any operator\n",
    "that only acts the subsystem $A$ are entirely captured by the reduced density operator\n",
    "\n",
    "$$\\rho_A = \\text{tr}_B(|\\psi\\rangle_{AB}\\langle\\psi|_{AB}).$$\n",
    "\n",
    "Such a reduced density operator is generally refered to as a mixed state. As stated in the\n",
    "lecture notes, the postulates of quantum mechanics themselves can actually equivalently be\n",
    "formulated in terms of density operators. In this equivalent reformulation, measurements are\n",
    "described by POVMs rather than orthogonal projectors, and evolution is described by quantum\n",
    "channels rather than unitary operators. A physical system that interacts with an environment\n",
    "that we cannot observe directly is called an **open quantum system**. We typically do not\n",
    "want to write down the combined state describing the physical system and its environment,\n",
    "but only limit our attention to the physical system we are interested in. The state of such\n",
    "an open system is then conveniently described by its density operator.\n",
    "\n",
    "Although it is equivalent to the more familiar formulation of quantum mechanics in terms of\n",
    "pure states, the significance of the density operator formalism becomes immediately aparent\n",
    "when considering the simple fact that *every quantum system encountered in the real world is\n",
    "an open quantum system*. No matter how carefully one tries to isolate a quantum system from\n",
    "its environment in an experiment, there will always be some coupling between the system and\n",
    "the outside world that can never be eliminated. Since any practical quantum system is always\n",
    "entangled with its environment causing it to decohere, tools for directly simulating the\n",
    "dynamics of open quantum systems are essential for understanding the behavior of real-world\n",
    "quantum devices.\n",
    "\n",
    "In addition, for any system system of significance, an exact analytical description for the\n",
    "its dynamics simply does not exist. Any description of such a system must therefore resort\n",
    "to numerical tools to solve the equations governing the dynamics. While this task of\n",
    "numerically simulating quantum systems is inherently exponentially difficult on classical\n",
    "hardware, it is still an essential tool in the design and benchmarking of near-term quantum\n",
    "devices built from semiconductor quantum dots, trapped ions, superconducting circuits, and\n",
    "many more. As such, a lot of time and effort is being put into developing software that does\n",
    "just this.\n",
    "\n",
    "This notebook introduces some aspects of simulating open quantum systems using the\n",
    "[QuTiP software package](http://qutip.org/). The material covered here has been mostly\n",
    "adapted from the [QuTiP documentation](https://qutip.readthedocs.io/en/latest/index.html)\n",
    "and the corresponding [tutorial notebooks](https://qutip.org/qutip-tutorials/)."
   ]
  },
  {
   "cell_type": "markdown",
   "metadata": {},
   "source": [
    "### Dynamics in opens systems <a name=\"open_dynamics\"></a>"
   ]
  },
  {
   "cell_type": "markdown",
   "metadata": {},
   "source": [
    "While there is much to be said about the quantum mechanical description of open systems, we\n",
    "will focus on their **dynamics**.\n",
    "\n",
    "The dynamics of a closed quantum system is governed by the familiar Schrödinger equation\n",
    "\n",
    "$$\n",
    "i\\hbar\\frac{\\partial}{\\partial t}|\\psi\\rangle = H |\\psi\\rangle,\n",
    "$$\n",
    "\n",
    "where $|\\psi\\rangle$ is the state vector of the system and $H$ is the Hamiltonian. In general,\n",
    "the Schrödinger equation is a partial differential equation (PDE) where both $|\\psi\\rangle$\n",
    "and $H$ are functions of space and time. If we can diagonalize the Hamiltonian in some\n",
    "appropriate basis at each time, we can in principle solve the Schrödinger equation exactly.\n",
    "In practice, performing this diagonalization numerically is difficult unless the size of the\n",
    "Hilbert space is small, and one has to resort to approximation techniques for larger\n",
    "systems.\n",
    "\n",
    "Since the synamics of the state vector in a closed system is described by a PDE formulated\n",
    "in terms of a well-defined Hamiltonian, its evolution is deterministic. In contrast, the\n",
    "dynamics of open quantum systems is in essence *stochastic* in nature. Intuitively, the\n",
    "effect of an environment on the system of interest can be understood as inducing stochastic\n",
    "transitions between energy levels, and introducing uncertainty in the phase difference\n",
    "between states of the system. These effects are captured in the equations that govern the\n",
    "dynamics of open quantum systems.\n",
    "\n",
    "Consider first the combined quantum system consisting of our subsystem of interest and its\n",
    "environment. This combined system is by definition closed, and the time-evolution of its\n",
    "density operator $\\rho_{\\rm tot}(t) = |\\psi(t)\\rangle_{\\rm tot} \\langle \\psi(t)|_{\\rm tot}$\n",
    "follows directly from the Schrödinger equation and is given by\n",
    "\n",
    "$$\\dot \\rho_{\\rm tot}(t) = -\\frac{i}{\\hbar}[H_{\\rm tot}, \\rho_{\\rm tot}(t)],$$\n",
    "\n",
    "where the total Hamiltonian\n",
    "\n",
    "$$H_{\\rm tot} = H_{\\rm sys} + H_{\\rm env} + H_{\\rm int},$$\n",
    "\n",
    "includes the interactions within the system of interest $H_{\\rm sys}$, the interactions\n",
    "within the environment $H_{\\rm env}$, and a term representing the interaction between the\n",
    "system and its environment $H_{\\rm int}$. To obtain the dynamics we are interested in,\n",
    "namely the dynamics of the reduced density matrix of our original subsystem $\\rho = {\\rm\n",
    "tr}_{\\rm env}\\left(\\rho_{\\rm tot}\\right)$, we need to trace out all the environment degrees\n",
    "of freedom in the evolution equation of the full system density matrix. This process results\n",
    "in what we call the **Lindblad master equation**\n",
    "\n",
    "$$\\dot\\rho(t)=-\\frac{i}{\\hbar}[H(t),\\rho(t)]+ \\sum_n \\gamma_n \\left(L_n \\rho(t) L_n^\\dagger\n",
    "- \\frac{1}{2} \\{L_n^\\dagger L_n, \\rho(t)\\} \\right)$$\n",
    "\n",
    "This is the most general trace-preserving and completely positive form for the evolution of\n",
    "reduced density matrices In this expression, the operators $L_n$ are called **jump\n",
    "operators**. These precisely represent the stochastic jumps in the system induced due to the\n",
    "interactions with the environment that we refered to above. The $\\gamma_n$ encode the rates\n",
    "at which the system undergoes these jumps, and are therefore a measure for how 'noisy' the\n",
    "system is. A derivation of this equation and a discussion of the assumptions that go into\n",
    "the derivation is beyond the scope of our current dicussion, but can for example be found\n",
    "[here](https://arxiv.org/abs/1906.04478). We only note that, in order for the Lindblad\n",
    "master equation to be valid, it is important that the decay rates $\\gamma_n$ are smaller\n",
    "than the minimum energy splitting in the system Hamiltonian.\n",
    "\n",
    "Simulating the dynamics of a realistic noisy quantum system undergoing decoherence processes\n",
    "then comes down to numerically integrating the Lindblad master equation.\n"
   ]
  },
  {
   "cell_type": "markdown",
   "metadata": {},
   "source": [
    "## Simulating open quantum systems <a name=\"open_simulation\"></a>"
   ]
  },
  {
   "cell_type": "markdown",
   "metadata": {},
   "source": [
    "Throughout the rest of this notebook, we will make use of the [QuTiP python package](https://qutip.readthedocs.io/en/latest/index.html) and its [quantum information processing module](https://qutip-qip.readthedocs.io/en/stable/index.html). It provides all the functionalities we require here.\n",
    "\n",
    "<div class=\"alert alert-block alert-info\"> <b>From the qutip documentation:</b> <i>The Quantum Toolbox in Python, or QuTiP, is an open-source framework written in the Python programming language, designed for simulating the dynamics of open quantum systems.</i> </div>"
   ]
  },
  {
   "cell_type": "markdown",
   "metadata": {
    "vscode": {
     "languageId": "plaintext"
    }
   },
   "source": [
    "### Basic quantum objects and operations <a name=\"qobjects\"></a>"
   ]
  },
  {
   "cell_type": "markdown",
   "metadata": {},
   "source": [
    "Before moving on to any actual simulations, let's first go through a few of the QuTiP basics we will need. You can find a more in-depth tutorial [here](https://nbviewer.org/urls/qutip.org/qutip-tutorials/tutorials-v5/lectures/Lecture-0-Introduction-to-QuTiP.ipynb)."
   ]
  },
  {
   "cell_type": "code",
   "execution_count": 80,
   "metadata": {},
   "outputs": [],
   "source": [
    "import qutip as qt"
   ]
  },
  {
   "cell_type": "markdown",
   "metadata": {},
   "source": [
    "##### [Quantum states](https://qutip.readthedocs.io/en/latest/apidoc/functions.html#module-qutip.core.states)"
   ]
  },
  {
   "cell_type": "markdown",
   "metadata": {},
   "source": [
    "##### State vectors"
   ]
  },
  {
   "cell_type": "markdown",
   "metadata": {},
   "source": [
    "Let's start our discussion by considering the state of a single qubit, which lives in a two-dimensional Hilbert space spanned by the basis $\\{|0\\rangle, |1\\rangle\\}$. In QuTiP, a basis state can be initialized through the [`basis` function](https://qutip.readthedocs.io/en/qutip-5.0.x/apidoc/functions.html#qutip.core.states.basis), by supplying the total Hilbert space dimension as well as the integer label of the basis state. For example, the state $|1\\rangle$ can be created as follows."
   ]
  },
  {
   "cell_type": "code",
   "execution_count": 81,
   "metadata": {},
   "outputs": [
    {
     "data": {
      "text/latex": [
       "Quantum object: dims=[[2], [1]], shape=(2, 1), type='ket', dtype=Dense$$\\left(\\begin{array}{cc}0\\\\1\\end{array}\\right)$$"
      ],
      "text/plain": [
       "Quantum object: dims=[[2], [1]], shape=(2, 1), type='ket', dtype=Dense\n",
       "Qobj data =\n",
       "[[0.]\n",
       " [1.]]"
      ]
     },
     "execution_count": 81,
     "metadata": {},
     "output_type": "execute_result"
    }
   ],
   "source": [
    "b = qt.basis(2, 1)  # equivalent to fock(N, n)\n",
    "b"
   ]
  },
  {
   "cell_type": "markdown",
   "metadata": {},
   "source": [
    "This basis state is an instance of a the `Qobj` type defined in QuTip. Using our basis state we can inspect some [basic properties of `Qobj` instances](https://qutip.readthedocs.io/en/latest/guide/guide-basics.html#the-quantum-object-class)."
   ]
  },
  {
   "cell_type": "code",
   "execution_count": 82,
   "metadata": {},
   "outputs": [
    {
     "data": {
      "text/plain": [
       "[[2], [1]]"
      ]
     },
     "execution_count": 82,
     "metadata": {},
     "output_type": "execute_result"
    }
   ],
   "source": [
    "# the dimension, which encodes composite Hilbert state space structure\n",
    "b.dims"
   ]
  },
  {
   "cell_type": "code",
   "execution_count": 83,
   "metadata": {},
   "outputs": [
    {
     "data": {
      "text/plain": [
       "(2, 1)"
      ]
     },
     "execution_count": 83,
     "metadata": {},
     "output_type": "execute_result"
    }
   ],
   "source": [
    "# the shape of the internal matrix data representation\n",
    "b.shape"
   ]
  },
  {
   "cell_type": "code",
   "execution_count": 84,
   "metadata": {},
   "outputs": [
    {
     "data": {
      "text/plain": [
       "Dense(shape=(2, 1), fortran=True)"
      ]
     },
     "execution_count": 84,
     "metadata": {},
     "output_type": "execute_result"
    }
   ],
   "source": [
    "# the matrix data itself, in some internal format\n",
    "b.data"
   ]
  },
  {
   "cell_type": "code",
   "execution_count": 85,
   "metadata": {},
   "outputs": [
    {
     "data": {
      "text/plain": [
       "array([[0.+0.j],\n",
       "       [1.+0.j]])"
      ]
     },
     "execution_count": 85,
     "metadata": {},
     "output_type": "execute_result"
    }
   ],
   "source": [
    "# get the dense matrix representation\n",
    "b.full()"
   ]
  },
  {
   "cell_type": "code",
   "execution_count": 86,
   "metadata": {},
   "outputs": [
    {
     "data": {
      "text/plain": [
       "(False, 'ket')"
      ]
     },
     "execution_count": 86,
     "metadata": {},
     "output_type": "execute_result"
    }
   ],
   "source": [
    "# some additional properties\n",
    "b.isherm, b.type"
   ]
  },
  {
   "cell_type": "markdown",
   "metadata": {},
   "source": [
    "In particular, we can take the adjoint of a regular 'ket' quantum state to obtain its dual 'bra' operator using the [`dag` method](https://qutip.readthedocs.io/en/stable/apidoc/classes.html#qutip.core.qobj.Qobj.diag)."
   ]
  },
  {
   "cell_type": "code",
   "execution_count": 87,
   "metadata": {},
   "outputs": [
    {
     "data": {
      "text/latex": [
       "Quantum object: dims=[[1], [2]], shape=(1, 2), type='bra', dtype=Dense$$\\left(\\begin{array}{cc}0 & 1\\end{array}\\right)$$"
      ],
      "text/plain": [
       "Quantum object: dims=[[1], [2]], shape=(1, 2), type='bra', dtype=Dense\n",
       "Qobj data =\n",
       "[[0. 1.]]"
      ]
     },
     "execution_count": 87,
     "metadata": {},
     "output_type": "execute_result"
    }
   ],
   "source": [
    "# dagger turns a ket into a bra\n",
    "b.dag()"
   ]
  },
  {
   "cell_type": "markdown",
   "metadata": {},
   "source": [
    "##### Density operators"
   ]
  },
  {
   "cell_type": "markdown",
   "metadata": {},
   "source": [
    "Instances of `Qobj` can not only represent state vectors, but also density operators as well as more general operators. For example, the density operator corresponding to our basis state `b` can be obtained as:"
   ]
  },
  {
   "cell_type": "code",
   "execution_count": 88,
   "metadata": {},
   "outputs": [
    {
     "data": {
      "text/latex": [
       "Quantum object: dims=[[2], [2]], shape=(2, 2), type='oper', dtype=Dense, isherm=True$$\\left(\\begin{array}{cc}0 & 0\\\\0 & 1\\end{array}\\right)$$"
      ],
      "text/plain": [
       "Quantum object: dims=[[2], [2]], shape=(2, 2), type='oper', dtype=Dense, isherm=True\n",
       "Qobj data =\n",
       "[[0. 0.]\n",
       " [0. 1.]]"
      ]
     },
     "execution_count": 88,
     "metadata": {},
     "output_type": "execute_result"
    }
   ],
   "source": [
    "# pure state density matrix\n",
    "rho = b * b.dag()\n",
    "rho # is a Hermitian operator"
   ]
  },
  {
   "cell_type": "code",
   "execution_count": 89,
   "metadata": {},
   "outputs": [
    {
     "data": {
      "text/plain": [
       "1.0"
      ]
     },
     "execution_count": 89,
     "metadata": {},
     "output_type": "execute_result"
    }
   ],
   "source": [
    "# with unit trace\n",
    "rho.tr()"
   ]
  },
  {
   "cell_type": "markdown",
   "metadata": {},
   "source": [
    "#### [Operators](https://qutip.readthedocs.io/en/latest/apidoc/functions.html#module-qutip.core.operators)"
   ]
  },
  {
   "cell_type": "markdown",
   "metadata": {},
   "source": [
    "QuTiP directly exports some basic quantum operators, such as the familiar Pauli operators:"
   ]
  },
  {
   "cell_type": "code",
   "execution_count": 90,
   "metadata": {},
   "outputs": [
    {
     "data": {
      "text/latex": [
       "Quantum object: dims=[[2], [2]], shape=(2, 2), type='oper', dtype=CSR, isherm=True$$\\left(\\begin{array}{cc}0 & 1\\\\1 & 0\\end{array}\\right)$$"
      ],
      "text/plain": [
       "Quantum object: dims=[[2], [2]], shape=(2, 2), type='oper', dtype=CSR, isherm=True\n",
       "Qobj data =\n",
       "[[0. 1.]\n",
       " [1. 0.]]"
      ]
     },
     "execution_count": 90,
     "metadata": {},
     "output_type": "execute_result"
    }
   ],
   "source": [
    "# Pauli X\n",
    "qt.sigmax()"
   ]
  },
  {
   "cell_type": "code",
   "execution_count": 91,
   "metadata": {},
   "outputs": [
    {
     "data": {
      "text/latex": [
       "Quantum object: dims=[[2], [2]], shape=(2, 2), type='oper', dtype=CSR, isherm=True$$\\left(\\begin{array}{cc}0 & -1j\\\\1j & 0\\end{array}\\right)$$"
      ],
      "text/plain": [
       "Quantum object: dims=[[2], [2]], shape=(2, 2), type='oper', dtype=CSR, isherm=True\n",
       "Qobj data =\n",
       "[[0.+0.j 0.-1.j]\n",
       " [0.+1.j 0.+0.j]]"
      ]
     },
     "execution_count": 91,
     "metadata": {},
     "output_type": "execute_result"
    }
   ],
   "source": [
    "# Pauli Y\n",
    "qt.sigmay()"
   ]
  },
  {
   "cell_type": "code",
   "execution_count": 92,
   "metadata": {},
   "outputs": [
    {
     "data": {
      "text/latex": [
       "Quantum object: dims=[[2], [2]], shape=(2, 2), type='oper', dtype=CSR, isherm=True$$\\left(\\begin{array}{cc}0 & -1j\\\\1j & 0\\end{array}\\right)$$"
      ],
      "text/plain": [
       "Quantum object: dims=[[2], [2]], shape=(2, 2), type='oper', dtype=CSR, isherm=True\n",
       "Qobj data =\n",
       "[[0.+0.j 0.-1.j]\n",
       " [0.+1.j 0.+0.j]]"
      ]
     },
     "execution_count": 92,
     "metadata": {},
     "output_type": "execute_result"
    }
   ],
   "source": [
    "# Pauli Z\n",
    "qt.sigmay()"
   ]
  },
  {
   "cell_type": "markdown",
   "metadata": {},
   "source": [
    "A more exhaustive set of elementary gates is provided by the [`qutip_qip` module](https://qutip-qip.readthedocs.io/en/stable/apidoc/qutip_qip.operations.html#) for quantum information processing built on top of QuTiP."
   ]
  },
  {
   "cell_type": "markdown",
   "metadata": {},
   "source": [
    "#### [Tensor products](https://qutip.readthedocs.io/en/latest/apidoc/functions.html#module-qutip.core.tensor)"
   ]
  },
  {
   "cell_type": "markdown",
   "metadata": {},
   "source": [
    "To work with composite systems, we can take tensor products of quantum objects using the [`tensor` function](https://qutip.readthedocs.io/en/latest/apidoc/functions.html#qutip.core.tensor.tensor). For example, the three-qubit state $|1\\rangle \\otimes |1\\rangle \\otimes |1\\rangle$ can be created as:"
   ]
  },
  {
   "cell_type": "code",
   "execution_count": 93,
   "metadata": {},
   "outputs": [
    {
     "data": {
      "text/latex": [
       "Quantum object: dims=[[2, 2, 2], [1, 1, 1]], shape=(8, 1), type='ket', dtype=Dense$$\\left(\\begin{array}{cc}0\\\\0\\\\0\\\\0\\\\0\\\\0\\\\0\\\\1\\end{array}\\right)$$"
      ],
      "text/plain": [
       "Quantum object: dims=[[2, 2, 2], [1, 1, 1]], shape=(8, 1), type='ket', dtype=Dense\n",
       "Qobj data =\n",
       "[[0.]\n",
       " [0.]\n",
       " [0.]\n",
       " [0.]\n",
       " [0.]\n",
       " [0.]\n",
       " [0.]\n",
       " [1.]]"
      ]
     },
     "execution_count": 93,
     "metadata": {},
     "output_type": "execute_result"
    }
   ],
   "source": [
    "bbb = qt.tensor(b, b, b)\n",
    "bbb # note the dims field reflects the composite structure"
   ]
  },
  {
   "cell_type": "markdown",
   "metadata": {},
   "source": [
    "Similarly, a composite operator $X \\otimes I \\otimes Y$ can be created as:"
   ]
  },
  {
   "cell_type": "code",
   "execution_count": 94,
   "metadata": {},
   "outputs": [
    {
     "data": {
      "text/latex": [
       "Quantum object: dims=[[2, 2, 2], [2, 2, 2]], shape=(8, 8), type='oper', dtype=CSR, isherm=True$$\\left(\\begin{array}{cc}0 & 0 & 0 & 0 & 0 & -1j & 0 & 0\\\\0 & 0 & 0 & 0 & 1j & 0 & 0 & 0\\\\0 & 0 & 0 & 0 & 0 & 0 & 0 & -1j\\\\0 & 0 & 0 & 0 & 0 & 0 & 1j & 0\\\\0 & -1j & 0 & 0 & 0 & 0 & 0 & 0\\\\1j & 0 & 0 & 0 & 0 & 0 & 0 & 0\\\\0 & 0 & 0 & -1j & 0 & 0 & 0 & 0\\\\0 & 0 & 1j & 0 & 0 & 0 & 0 & 0\\end{array}\\right)$$"
      ],
      "text/plain": [
       "Quantum object: dims=[[2, 2, 2], [2, 2, 2]], shape=(8, 8), type='oper', dtype=CSR, isherm=True\n",
       "Qobj data =\n",
       "[[0.+0.j 0.+0.j 0.+0.j 0.+0.j 0.+0.j 0.-1.j 0.+0.j 0.+0.j]\n",
       " [0.+0.j 0.+0.j 0.+0.j 0.+0.j 0.+1.j 0.+0.j 0.+0.j 0.+0.j]\n",
       " [0.+0.j 0.+0.j 0.+0.j 0.+0.j 0.+0.j 0.+0.j 0.+0.j 0.-1.j]\n",
       " [0.+0.j 0.+0.j 0.+0.j 0.+0.j 0.+0.j 0.+0.j 0.+1.j 0.+0.j]\n",
       " [0.+0.j 0.-1.j 0.+0.j 0.+0.j 0.+0.j 0.+0.j 0.+0.j 0.+0.j]\n",
       " [0.+1.j 0.+0.j 0.+0.j 0.+0.j 0.+0.j 0.+0.j 0.+0.j 0.+0.j]\n",
       " [0.+0.j 0.+0.j 0.+0.j 0.-1.j 0.+0.j 0.+0.j 0.+0.j 0.+0.j]\n",
       " [0.+0.j 0.+0.j 0.+1.j 0.+0.j 0.+0.j 0.+0.j 0.+0.j 0.+0.j]]"
      ]
     },
     "execution_count": 94,
     "metadata": {},
     "output_type": "execute_result"
    }
   ],
   "source": [
    "XIY = qt.tensor(qt.sigmax(), qt.qeye(2), qt.sigmay())\n",
    "XIY # note the dims field reflects the composite structure"
   ]
  },
  {
   "cell_type": "markdown",
   "metadata": {},
   "source": [
    "Operators can be applied to states by using the `*` operator."
   ]
  },
  {
   "cell_type": "code",
   "execution_count": 95,
   "metadata": {},
   "outputs": [
    {
     "data": {
      "text/latex": [
       "Quantum object: dims=[[2, 2, 2], [1, 1, 1]], shape=(8, 1), type='ket', dtype=Dense$$\\left(\\begin{array}{cc}0\\\\0\\\\-1j\\\\0\\\\0\\\\0\\\\0\\\\0\\end{array}\\right)$$"
      ],
      "text/plain": [
       "Quantum object: dims=[[2, 2, 2], [1, 1, 1]], shape=(8, 1), type='ket', dtype=Dense\n",
       "Qobj data =\n",
       "[[0.+0.j]\n",
       " [0.+0.j]\n",
       " [0.-1.j]\n",
       " [0.+0.j]\n",
       " [0.+0.j]\n",
       " [0.+0.j]\n",
       " [0.+0.j]\n",
       " [0.+0.j]]"
      ]
     },
     "execution_count": 95,
     "metadata": {},
     "output_type": "execute_result"
    }
   ],
   "source": [
    "XIY * bbb"
   ]
  },
  {
   "cell_type": "markdown",
   "metadata": {},
   "source": [
    "### Solving the master equation with Qutip <a name=\"master_eq\"></a>"
   ]
  },
  {
   "cell_type": "code",
   "execution_count": 96,
   "metadata": {},
   "outputs": [],
   "source": [
    "import numpy as np\n",
    "import matplotlib.pyplot as plt"
   ]
  },
  {
   "cell_type": "markdown",
   "metadata": {},
   "source": [
    "QuTiP is designed to make it easy to simulate the dynamics of open quantum systems. It exports a solver for the Lindblad master equation through the [`mesolve` function](https://qutip.readthedocs.io/en/latest/apidoc/functions.html#qutip.solver.mesolve.mesolve) function. This function integrates the Lindblad master equation for a given Hamiltonian, a set of jump operators and decay rates, and returns the time-evolution of the density matrix for the system. In particular, its calling syntax is:\n",
    "\n",
    "```python\n",
    "mesolve(H, rho0, tlist, c_ops=None, e_ops=None)\n",
    "```\n",
    "\n",
    "To use it, we need a Hamiltian `H`, an initial state `rho0`, a list `tlist` of times for which we want the integration result, a list `c_ops` of so-called **collapse operators**, and a list `e_ops` of operators to measure at each time in `tlist`. The collapse operators $C_n$ are nothing more than the product of the jump operators and the square root of the decay rates, $C_n := \\sqrt{\\gamma_n} L_n$."
   ]
  },
  {
   "cell_type": "markdown",
   "metadata": {},
   "source": [
    "As a very simple example of simulating open quantum dynamics with `mesolve`, we will consider time evolution of a single spin-1/2 particle with a tunneling rate $R$ that is initially in the up-state $|0\\rangle$, which dissipates energy to its environment at a rate $\\gamma$.\n",
    "\n",
    "The Hamiltonian of this system is given by\n",
    "$$H = 2\\pi R \\sigma_x,$$\n",
    "where we will set the tunneling rate to to be $R=0.1$ in our example. The energy dissipation to the environment can be modeled as a relaxation process corresponding to a jump operator $L = \\sigma_x$, and we will set the corresponding relaxation rate at $\\gamma = 0.05$.\n",
    "\n",
    "We will simulate the time evolution of this system up to a total time total time of $t=10$, where we will track the time evolution of the expectation value of the operators $\\sigma_z$ and $\\sigma_y$ throughout 100 steps along the time evolution.\n",
    "\n",
    "The `mesolve` documentation provides us with all the information we need to actually do this."
   ]
  },
  {
   "cell_type": "code",
   "execution_count": 97,
   "metadata": {},
   "outputs": [],
   "source": [
    "times = np.linspace(0.0, 10.0, 100)\n",
    "\n",
    "H = 2*np.pi * 0.1 * qt.sigmax()\n",
    "rho0 = qt.basis(2, 0) * qt.basis(2, 0).dag()\n",
    "c_ops = [np.sqrt(0.05) * qt.sigmax()]\n",
    "e_ops = [qt.sigmaz(), qt.sigmay()]\n",
    "\n",
    "result = qt.mesolve(H, rho0, times, c_ops=c_ops, e_ops=e_ops)"
   ]
  },
  {
   "cell_type": "markdown",
   "metadata": {},
   "source": [
    "From the [QuTiP solver result](https://qutip.readthedocs.io/en/latest/apidoc/classes.html#qutip.solver.result.Result), we can plot the evolution of the expecation values of the operators $\\sigma_z$ and $\\sigma_y$ as a function of time."
   ]
  },
  {
   "cell_type": "code",
   "execution_count": 98,
   "metadata": {},
   "outputs": [
    {
     "data": {
      "image/png": "[encoded data removed]",
      "text/plain": [
       "<Figure size 640x480 with 1 Axes>"
      ]
     },
     "metadata": {},
     "output_type": "display_data"
    }
   ],
   "source": [
    "fig, ax = plt.subplots()\n",
    "ax.plot(times, result.expect[0])\n",
    "ax.plot(times, result.expect[1])\n",
    "ax.set_xlabel('Time')\n",
    "ax.set_ylabel('Expectation values')\n",
    "ax.legend((r\"$\\sigma_z$\", r\"$\\sigma_y$\"))\n",
    "plt.show()"
   ]
  },
  {
   "cell_type": "markdown",
   "metadata": {},
   "source": [
    "Note the oscillating behavior, with a clear decay in the amplitude of the oscillations. This is a clear signature of energy dissipation to the environment.\n",
    "\n",
    "Indeed, if we compare our result to what we would get when [integrating the Schrödinger equation](https://qutip.readthedocs.io/en/stable/apidoc/functions.html#qutip.solver.sesolve.sesolve) for the same system, ignoring the dissipation, we would see that the oscillations would continue indefinitely."
   ]
  },
  {
   "cell_type": "code",
   "execution_count": 99,
   "metadata": {},
   "outputs": [
    {
     "data": {
      "image/png": "[encoded data removed]",
      "text/plain": [
       "<Figure size 640x480 with 1 Axes>"
      ]
     },
     "metadata": {},
     "output_type": "display_data"
    }
   ],
   "source": [
    "noiseless_result = qt.sesolve(H, qt.basis(2, 0), times, e_ops=e_ops)\n",
    "fig, ax = plt.subplots()\n",
    "ax.plot(noiseless_result.times, noiseless_result.expect[0])\n",
    "ax.plot(noiseless_result.times, noiseless_result.expect[1])\n",
    "ax.set_xlabel('Time')\n",
    "ax.set_ylabel('Expectation values')\n",
    "ax.legend((r\"$\\sigma_z$\", r\"$\\sigma_y$\"))\n",
    "plt.show()"
   ]
  },
  {
   "cell_type": "markdown",
   "metadata": {},
   "source": [
    "In the following, we will move away from directly simulating a physical system by defining its Hamiltonian manually, and instead focus on an example of a simple quantum circuit. While we will not use `mesolve` directly in this example, the QuTiP framework that simulates the execution of such a quantum circuit on a noisy device usees `mesolve` under the hood."
   ]
  },
  {
   "cell_type": "markdown",
   "metadata": {},
   "source": [
    "## Example: the quantum teleportation circuit <a name=\"example1\"></a>"
   ]
  },
  {
   "cell_type": "markdown",
   "metadata": {},
   "source": [
    "After this general introduction to dynamics in open quantum systems, we will now move on to a concrete example that is more relevant to the course, namely the quantum teleportation circuit. This simple 3-qubit circuit contains only basic quantum gates and measurements, making it an ideal test case.\n",
    "\n",
    "We will start by implementing the circuit\n",
    "\n",
    "<center><img src=\"./fig/teleportation.svg\" alt=\"teleportation\"/></center>\n",
    "\n",
    "\n",
    "from the lecture notes in QuTiP. We will then use this circuit to perform a very basic *gate-level simulation*, to demonstrate the use of numerical tools for analytically analyzing circuits. In the next section, we will look at what a more realistic simulation of the same circuit when it is actually executed on a quantum device would look like."
   ]
  },
  {
   "cell_type": "markdown",
   "metadata": {},
   "source": [
    "### Defining a quantum circuit <a name=\"teleportation\"></a>"
   ]
  },
  {
   "cell_type": "code",
   "execution_count": 100,
   "metadata": {},
   "outputs": [],
   "source": [
    "from qutip_qip.circuit import QubitCircuit\n",
    "from math import sqrt"
   ]
  },
  {
   "cell_type": "markdown",
   "metadata": {},
   "source": [
    "A quantum circuit can be represented in QuTiP as an instance of the [`QubitCircuit` class](https://qutip-qip.readthedocs.io/en/stable/apidoc/qutip_qip.circuit.html#qutip_qip.circuit.QubitCircuit). After initializing an empty `QubitCicuit` with the appropriate nummber of qubits, we can add the gates and measurements in the circuit one by one using the [`add_gate`](https://qutip-qip.readthedocs.io/en/stable/apidoc/qutip_qip.circuit.html#qutip_qip.circuit.QubitCircuit.add_gate) and [`add_measurement`](https://qutip-qip.readthedocs.io/en/stable/apidoc/qutip_qip.circuit.html#qutip_qip.circuit.QubitCircuit.add_measurement) methods.\n",
    "\n",
    "A list of available buitin gates can be found [here](https://qutip-qip.readthedocs.io/en/stable/qip-basics.html#gates).\n",
    "\n",
    "For our example, we will require the \"SNOT\" gate representing a single-qubit Hadamard gate, the \"CNOT\" gate representing a controlled-$X$ gate, and the \"CSIGN\" gate representing a controlled-$Z$ gate. We will also need to add measurements to the circuit."
   ]
  },
  {
   "cell_type": "markdown",
   "metadata": {},
   "source": [
    "The circuit consists of three qubits which we will label $0$, $1$ and $2$. Qubits $0$ and $1$ belong to Alice and are initialized in the states $|\\psi\\rangle$ and $|0\\rangle$, respectively, where $|\\psi\\rangle$ is the state Alice intends to teleport to Bob. Qubit $2$ belongs to Bob is initialized in the state $|0\\rangle$.\n",
    "\n",
    "We start by initializing an empty circuit, annotating the initial state of the three qubits:"
   ]
  },
  {
   "cell_type": "code",
   "execution_count": 101,
   "metadata": {},
   "outputs": [],
   "source": [
    "teleportation = QubitCircuit(3, input_states=[r\"\\psi_A\", r\"0_A\", r\"0_B\"])"
   ]
  },
  {
   "cell_type": "markdown",
   "metadata": {},
   "source": [
    "The first step of the circuits consists of encoding Bell state between Alice and Bob's ancilla $|0\\rangle$ states (where one qubit of the pair is then given to each of them):"
   ]
  },
  {
   "cell_type": "code",
   "execution_count": 102,
   "metadata": {},
   "outputs": [],
   "source": [
    "teleportation.add_gate(\"SNOT\", targets=[1])\n",
    "teleportation.add_gate(\"CNOT\", targets=[2], controls=[1])"
   ]
  },
  {
   "cell_type": "markdown",
   "metadata": {},
   "source": [
    "In a second step, Alice entangles her part of the Bell state with the state to be teleported:"
   ]
  },
  {
   "cell_type": "code",
   "execution_count": 103,
   "metadata": {},
   "outputs": [],
   "source": [
    "teleportation.add_gate(\"CNOT\", targets=[1], controls=[0])\n",
    "teleportation.add_gate(\"SNOT\", targets=[0])"
   ]
  },
  {
   "cell_type": "markdown",
   "metadata": {},
   "source": [
    "Finally, Alice measures her two qubits in the computational basis, and communicates the result to Bob. Conditioned on the measurement result, Bob then applies and $X$ and/or $Z$ to his qubit to obtain the state $|\\psi\\rangle$. This procedure can equivalently be formulated in terms of controlloed operations between Alice's two qubits and Bob's qubit, with a delayed measurement at the end:"
   ]
  },
  {
   "cell_type": "code",
   "execution_count": 104,
   "metadata": {},
   "outputs": [],
   "source": [
    "teleportation.add_gate(\"CNOT\", targets=[2], controls=[1])\n",
    "teleportation.add_gate(\"CSIGN\", targets=[2], controls=[0])\n",
    "\n",
    "teleportation.add_measurement(\"M0\", targets=[0])\n",
    "teleportation.add_measurement(\"M1\", targets=[1])"
   ]
  },
  {
   "cell_type": "markdown",
   "metadata": {},
   "source": [
    "We can plot our `teleportation` circuit to see if it is correct:"
   ]
  },
  {
   "cell_type": "code",
   "execution_count": 105,
   "metadata": {},
   "outputs": [
    {
     "data": {
      "image/png": "[encoded data removed]",
      "image/svg+xml": [
       "<?xml version=\"1.0\" encoding=\"UTF-8\"?>\n",
       "<svg xmlns=\"http://www.w3.org/2000/svg\" xmlns:xlink=\"http://www.w3.org/1999/xlink\" width=\"381pt\" height=\"99pt\" viewBox=\"0 0 381 99\" version=\"1.1\">\n",
       "<defs>\n",
       "<g>\n",
       "<symbol overflow=\"visible\" id=\"glyph0-0\">\n",
       "<path style=\"stroke:none;\" d=\"\"/>\n",
       "</symbol>\n",
       "<symbol overflow=\"visible\" id=\"glyph0-1\">\n",
       "<path style=\"stroke:none;\" d=\"M 1.578125 -7.125 C 1.578125 -7.296875 1.578125 -7.484375 1.390625 -7.484375 C 1.1875 -7.484375 1.1875 -7.296875 1.1875 -7.125 L 1.1875 2.140625 C 1.1875 2.3125 1.1875 2.5 1.390625 2.5 C 1.578125 2.5 1.578125 2.3125 1.578125 2.140625 Z M 1.578125 -7.125 \"/>\n",
       "</symbol>\n",
       "<symbol overflow=\"visible\" id=\"glyph0-2\">\n",
       "<path style=\"stroke:none;\" d=\"M 2.71875 -2.328125 C 2.765625 -2.4375 2.765625 -2.46875 2.765625 -2.5 C 2.765625 -2.515625 2.765625 -2.546875 2.71875 -2.65625 L 0.984375 -7.25 C 0.921875 -7.421875 0.859375 -7.484375 0.75 -7.484375 C 0.640625 -7.484375 0.546875 -7.390625 0.546875 -7.28125 C 0.546875 -7.25 0.546875 -7.234375 0.59375 -7.125 L 2.359375 -2.5 L 0.59375 2.109375 C 0.546875 2.21875 0.546875 2.25 0.546875 2.296875 C 0.546875 2.40625 0.640625 2.5 0.75 2.5 C 0.875 2.5 0.921875 2.390625 0.953125 2.296875 Z M 2.71875 -2.328125 \"/>\n",
       "</symbol>\n",
       "<symbol overflow=\"visible\" id=\"glyph0-3\">\n",
       "<path style=\"stroke:none;\" d=\"M 4.421875 -2.5 C 4.421875 -3.5625 3.53125 -4.421875 2.5 -4.421875 C 1.421875 -4.421875 0.546875 -3.53125 0.546875 -2.5 C 0.546875 -1.4375 1.421875 -0.5625 2.5 -0.5625 C 3.53125 -0.5625 4.421875 -1.421875 4.421875 -2.5 Z M 4.421875 -2.5 \"/>\n",
       "</symbol>\n",
       "<symbol overflow=\"visible\" id=\"glyph1-0\">\n",
       "<path style=\"stroke:none;\" d=\"\"/>\n",
       "</symbol>\n",
       "<symbol overflow=\"visible\" id=\"glyph1-1\">\n",
       "<path style=\"stroke:none;\" d=\"M 4.578125 -3.1875 C 4.578125 -3.984375 4.53125 -4.78125 4.1875 -5.515625 C 3.734375 -6.484375 2.90625 -6.640625 2.5 -6.640625 C 1.890625 -6.640625 1.171875 -6.375 0.75 -5.453125 C 0.4375 -4.765625 0.390625 -3.984375 0.390625 -3.1875 C 0.390625 -2.4375 0.421875 -1.546875 0.84375 -0.78125 C 1.265625 0.015625 2 0.21875 2.484375 0.21875 C 3.015625 0.21875 3.78125 0.015625 4.21875 -0.9375 C 4.53125 -1.625 4.578125 -2.40625 4.578125 -3.1875 Z M 2.484375 0 C 2.09375 0 1.5 -0.25 1.328125 -1.203125 C 1.21875 -1.796875 1.21875 -2.71875 1.21875 -3.3125 C 1.21875 -3.953125 1.21875 -4.609375 1.296875 -5.140625 C 1.484375 -6.328125 2.234375 -6.421875 2.484375 -6.421875 C 2.8125 -6.421875 3.46875 -6.234375 3.65625 -5.25 C 3.765625 -4.6875 3.765625 -3.9375 3.765625 -3.3125 C 3.765625 -2.5625 3.765625 -1.890625 3.65625 -1.25 C 3.5 -0.296875 2.9375 0 2.484375 0 Z M 2.484375 0 \"/>\n",
       "</symbol>\n",
       "<symbol overflow=\"visible\" id=\"glyph1-2\">\n",
       "<path style=\"stroke:none;\" d=\"M 6.109375 -6.03125 C 6.109375 -6.390625 6.125 -6.5 6.890625 -6.5 L 7.140625 -6.5 L 7.140625 -6.8125 C 6.78125 -6.78125 6.046875 -6.78125 5.671875 -6.78125 C 5.296875 -6.78125 4.546875 -6.78125 4.203125 -6.8125 L 4.203125 -6.5 L 4.4375 -6.5 C 5.203125 -6.5 5.21875 -6.390625 5.21875 -6.03125 L 5.21875 -3.703125 L 2.25 -3.703125 L 2.25 -6.03125 C 2.25 -6.390625 2.265625 -6.5 3.03125 -6.5 L 3.265625 -6.5 L 3.265625 -6.8125 C 2.921875 -6.78125 2.1875 -6.78125 1.796875 -6.78125 C 1.421875 -6.78125 0.671875 -6.78125 0.328125 -6.8125 L 0.328125 -6.5 L 0.5625 -6.5 C 1.328125 -6.5 1.359375 -6.390625 1.359375 -6.03125 L 1.359375 -0.78125 C 1.359375 -0.421875 1.328125 -0.3125 0.5625 -0.3125 L 0.328125 -0.3125 L 0.328125 0 C 0.671875 -0.03125 1.421875 -0.03125 1.796875 -0.03125 C 2.171875 -0.03125 2.921875 -0.03125 3.265625 0 L 3.265625 -0.3125 L 3.03125 -0.3125 C 2.265625 -0.3125 2.25 -0.421875 2.25 -0.78125 L 2.25 -3.390625 L 5.21875 -3.390625 L 5.21875 -0.78125 C 5.21875 -0.421875 5.203125 -0.3125 4.4375 -0.3125 L 4.203125 -0.3125 L 4.203125 0 C 4.546875 -0.03125 5.28125 -0.03125 5.65625 -0.03125 C 6.046875 -0.03125 6.78125 -0.03125 7.140625 0 L 7.140625 -0.3125 L 6.890625 -0.3125 C 6.125 -0.3125 6.109375 -0.421875 6.109375 -0.78125 Z M 6.109375 -6.03125 \"/>\n",
       "</symbol>\n",
       "<symbol overflow=\"visible\" id=\"glyph2-0\">\n",
       "<path style=\"stroke:none;\" d=\"\"/>\n",
       "</symbol>\n",
       "<symbol overflow=\"visible\" id=\"glyph2-1\">\n",
       "<path style=\"stroke:none;\" d=\"M 1.328125 -0.546875 C 1.265625 -0.3125 1.25 -0.25 0.703125 -0.25 C 0.59375 -0.25 0.5 -0.25 0.5 -0.109375 C 0.5 0 0.578125 0 0.703125 0 L 3.40625 0 C 4.578125 0 5.484375 -0.796875 5.484375 -1.484375 C 5.484375 -1.984375 5.03125 -2.40625 4.28125 -2.484375 C 5.125 -2.640625 5.828125 -3.171875 5.828125 -3.765625 C 5.828125 -4.296875 5.296875 -4.765625 4.390625 -4.765625 L 1.859375 -4.765625 C 1.71875 -4.765625 1.625 -4.765625 1.625 -4.609375 C 1.625 -4.515625 1.71875 -4.515625 1.859375 -4.515625 C 1.859375 -4.515625 2 -4.515625 2.125 -4.5 C 2.265625 -4.484375 2.28125 -4.46875 2.28125 -4.390625 C 2.28125 -4.390625 2.28125 -4.34375 2.25 -4.25 Z M 2.4375 -2.578125 L 2.859375 -4.265625 C 2.921875 -4.484375 2.921875 -4.515625 3.21875 -4.515625 L 4.28125 -4.515625 C 4.984375 -4.515625 5.15625 -4.046875 5.15625 -3.78125 C 5.15625 -3.21875 4.515625 -2.578125 3.578125 -2.578125 Z M 2.109375 -0.25 C 1.890625 -0.25 1.875 -0.265625 1.875 -0.328125 C 1.875 -0.328125 1.875 -0.359375 1.90625 -0.46875 L 2.390625 -2.375 L 3.875 -2.375 C 4.515625 -2.375 4.78125 -1.9375 4.78125 -1.546875 C 4.78125 -0.84375 4.0625 -0.25 3.21875 -0.25 Z M 2.109375 -0.25 \"/>\n",
       "</symbol>\n",
       "<symbol overflow=\"visible\" id=\"glyph2-2\">\n",
       "<path style=\"stroke:none;\" d=\"M 1.4375 -0.84375 C 1.1875 -0.453125 0.96875 -0.28125 0.5625 -0.25 C 0.484375 -0.25 0.390625 -0.25 0.390625 -0.109375 C 0.390625 -0.03125 0.453125 0 0.5 0 C 0.671875 0 0.90625 -0.03125 1.09375 -0.03125 C 1.3125 -0.03125 1.609375 0 1.8125 0 C 1.84375 0 1.953125 0 1.953125 -0.15625 C 1.953125 -0.25 1.859375 -0.25 1.828125 -0.25 C 1.78125 -0.265625 1.53125 -0.265625 1.53125 -0.453125 C 1.53125 -0.546875 1.59375 -0.65625 1.625 -0.71875 L 2.1875 -1.59375 L 4.1875 -1.59375 L 4.34375 -0.4375 C 4.328125 -0.359375 4.28125 -0.25 3.875 -0.25 C 3.78125 -0.25 3.6875 -0.25 3.6875 -0.09375 C 3.6875 -0.0625 3.703125 0 3.796875 0 C 4 0 4.5 -0.03125 4.703125 -0.03125 C 4.828125 -0.03125 4.984375 -0.015625 5.109375 -0.015625 C 5.234375 -0.015625 5.375 0 5.5 0 C 5.59375 0 5.640625 -0.0625 5.640625 -0.140625 C 5.640625 -0.25 5.5625 -0.25 5.453125 -0.25 C 5.046875 -0.25 5.03125 -0.3125 5.015625 -0.46875 L 4.390625 -4.78125 C 4.375 -4.921875 4.359375 -4.96875 4.234375 -4.96875 C 4.09375 -4.96875 4.0625 -4.90625 4 -4.8125 Z M 2.359375 -1.84375 L 3.8125 -4.125 L 4.140625 -1.84375 Z M 2.359375 -1.84375 \"/>\n",
       "</symbol>\n",
       "<symbol overflow=\"visible\" id=\"glyph3-0\">\n",
       "<path style=\"stroke:none;\" d=\"\"/>\n",
       "</symbol>\n",
       "<symbol overflow=\"visible\" id=\"glyph3-1\">\n",
       "<path style=\"stroke:none;\" d=\"M 7.171875 -6.5625 C 7.1875 -6.609375 7.203125 -6.65625 7.203125 -6.71875 C 7.203125 -6.8125 7.15625 -6.8125 6.953125 -6.8125 L 2.75 -6.8125 C 2.515625 -6.8125 2.5 -6.796875 2.4375 -6.609375 L 1.890625 -4.8125 C 1.875 -4.765625 1.859375 -4.6875 1.859375 -4.671875 C 1.859375 -4.671875 1.859375 -4.5625 1.984375 -4.5625 C 2.078125 -4.5625 2.09375 -4.640625 2.109375 -4.671875 C 2.5 -5.84375 3.015625 -6.5 4.5625 -6.5 L 6.1875 -6.5 L 0.625 -0.265625 C 0.625 -0.265625 0.578125 -0.125 0.578125 -0.09375 C 0.578125 0 0.640625 0 0.828125 0 L 5.15625 0 C 5.40625 0 5.40625 -0.015625 5.46875 -0.203125 L 6.1875 -2.40625 C 6.1875 -2.4375 6.21875 -2.515625 6.21875 -2.546875 C 6.21875 -2.609375 6.1875 -2.65625 6.09375 -2.65625 C 6 -2.65625 5.984375 -2.625 5.921875 -2.40625 C 5.484375 -1.0625 5 -0.34375 3.3125 -0.34375 L 1.609375 -0.34375 Z M 7.171875 -6.5625 \"/>\n",
       "</symbol>\n",
       "<symbol overflow=\"visible\" id=\"glyph3-2\">\n",
       "<path style=\"stroke:none;\" d=\"M 4.8125 -6.65625 C 4.8125 -6.703125 4.828125 -6.765625 4.828125 -6.8125 C 4.828125 -6.90625 4.765625 -6.921875 4.71875 -6.921875 C 4.609375 -6.921875 4.609375 -6.890625 4.5625 -6.71875 L 2.90625 -0.125 C 2.15625 -0.21875 1.78125 -0.59375 1.78125 -1.25 C 1.78125 -1.453125 1.78125 -1.703125 2.3125 -3.09375 C 2.359375 -3.21875 2.421875 -3.390625 2.421875 -3.59375 C 2.421875 -4.03125 2.109375 -4.40625 1.609375 -4.40625 C 0.65625 -4.40625 0.296875 -2.953125 0.296875 -2.875 C 0.296875 -2.765625 0.390625 -2.765625 0.40625 -2.765625 C 0.515625 -2.765625 0.515625 -2.796875 0.5625 -2.953125 C 0.84375 -3.890625 1.234375 -4.1875 1.578125 -4.1875 C 1.65625 -4.1875 1.828125 -4.1875 1.828125 -3.875 C 1.828125 -3.609375 1.71875 -3.359375 1.59375 -3.015625 C 1.109375 -1.75 1.109375 -1.5 1.109375 -1.328125 C 1.109375 -0.375 1.890625 0.03125 2.84375 0.09375 C 2.765625 0.453125 2.765625 0.46875 2.625 1 C 2.609375 1.109375 2.40625 1.90625 2.40625 1.9375 C 2.40625 1.953125 2.40625 2.046875 2.515625 2.046875 C 2.546875 2.046875 2.59375 2.046875 2.609375 2 C 2.640625 1.984375 2.703125 1.734375 2.734375 1.59375 L 3.109375 0.109375 C 3.484375 0.109375 4.359375 0.109375 5.296875 -0.953125 C 5.703125 -1.421875 5.90625 -1.859375 6.015625 -2.15625 C 6.109375 -2.40625 6.328125 -3.265625 6.328125 -3.703125 C 6.328125 -4.265625 6.0625 -4.40625 5.890625 -4.40625 C 5.640625 -4.40625 5.390625 -4.140625 5.390625 -3.921875 C 5.390625 -3.796875 5.453125 -3.734375 5.546875 -3.65625 C 5.65625 -3.546875 5.90625 -3.296875 5.90625 -2.8125 C 5.90625 -2.171875 5.390625 -1.359375 5.03125 -1 C 4.15625 -0.109375 3.515625 -0.109375 3.15625 -0.109375 Z M 4.8125 -6.65625 \"/>\n",
       "</symbol>\n",
       "</g>\n",
       "</defs>\n",
       "<g id=\"surface1\">\n",
       "<g style=\"fill:rgb(0%,0%,0%);fill-opacity:1;\">\n",
       "  <use xlink:href=\"#glyph0-1\" x=\"0.874\" y=\"9.521\"/>\n",
       "</g>\n",
       "<g style=\"fill:rgb(0%,0%,0%);fill-opacity:1;\">\n",
       "  <use xlink:href=\"#glyph1-1\" x=\"3.641\" y=\"9.521\"/>\n",
       "</g>\n",
       "<g style=\"fill:rgb(0%,0%,0%);fill-opacity:1;\">\n",
       "  <use xlink:href=\"#glyph2-1\" x=\"8.622\" y=\"11.015\"/>\n",
       "</g>\n",
       "<g style=\"fill:rgb(0%,0%,0%);fill-opacity:1;\">\n",
       "  <use xlink:href=\"#glyph0-2\" x=\"15.48\" y=\"9.521\"/>\n",
       "</g>\n",
       "<path style=\"fill:none;stroke-width:0.398;stroke-linecap:round;stroke-linejoin:round;stroke:rgb(0%,0%,0%);stroke-opacity:1;stroke-miterlimit:10;\" d=\"M 63.41725 -0.00125 L 28.346937 -0.00125 \" transform=\"matrix(1,0,0,-1,-4.011,7.03)\"/>\n",
       "<path style=\"fill:none;stroke-width:0.398;stroke-linecap:round;stroke-linejoin:round;stroke:rgb(0%,0%,0%);stroke-opacity:1;stroke-miterlimit:10;\" d=\"M -3.886219 -0.00125 L 3.883313 -0.00125 \" transform=\"matrix(1,0,0,-1,98.562,7.03)\"/>\n",
       "<path style=\"fill:none;stroke-width:0.398;stroke-linecap:round;stroke-linejoin:round;stroke:rgb(0%,0%,0%);stroke-opacity:1;stroke-miterlimit:10;\" d=\"M 0.0005 -3.884062 L 0.0005 3.885469 \" transform=\"matrix(1,0,0,-1,98.562,7.03)\"/>\n",
       "<path style=\"fill:none;stroke-width:0.398;stroke-linecap:round;stroke-linejoin:round;stroke:rgb(0%,0%,0%);stroke-opacity:1;stroke-miterlimit:10;\" d=\"M 0.0005 3.983125 C -2.198719 3.983125 -3.983875 2.197969 -3.983875 -0.00125 \" transform=\"matrix(1,0,0,-1,98.562,7.03)\"/>\n",
       "<path style=\"fill:none;stroke-width:0.398;stroke-linecap:round;stroke-linejoin:round;stroke:rgb(0%,0%,0%);stroke-opacity:1;stroke-miterlimit:10;\" d=\"M -3.983875 -0.00125 C -3.983875 -2.200469 -2.198719 -3.985625 0.0005 -3.985625 \" transform=\"matrix(1,0,0,-1,98.562,7.03)\"/>\n",
       "<path style=\"fill:none;stroke-width:0.398;stroke-linecap:round;stroke-linejoin:round;stroke:rgb(0%,0%,0%);stroke-opacity:1;stroke-miterlimit:10;\" d=\"M 0.0005 -3.985625 C 2.199719 -3.985625 3.984875 -2.200469 3.984875 -0.00125 \" transform=\"matrix(1,0,0,-1,98.562,7.03)\"/>\n",
       "<path style=\"fill:none;stroke-width:0.398;stroke-linecap:round;stroke-linejoin:round;stroke:rgb(0%,0%,0%);stroke-opacity:1;stroke-miterlimit:10;\" d=\"M 3.984875 -0.00125 C 3.984875 2.197969 2.199719 3.983125 0.0005 3.983125 \" transform=\"matrix(1,0,0,-1,98.562,7.03)\"/>\n",
       "<path style=\"fill:none;stroke-width:0.398;stroke-linecap:round;stroke-linejoin:round;stroke:rgb(0%,0%,0%);stroke-opacity:1;stroke-miterlimit:10;\" d=\"M 98.487562 -0.00125 L 63.41725 -0.00125 \" transform=\"matrix(1,0,0,-1,-4.011,7.03)\"/>\n",
       "<path style=\"fill:none;stroke-width:0.398;stroke-linecap:round;stroke-linejoin:round;stroke:rgb(0%,0%,0%);stroke-opacity:1;stroke-miterlimit:10;\" d=\"M 139.089125 -0.00125 L 106.659437 -0.00125 \" transform=\"matrix(1,0,0,-1,-4.011,7.03)\"/>\n",
       "<path style=\"fill:none;stroke-width:0.398;stroke-linecap:round;stroke-linejoin:round;stroke:rgb(0%,0%,0%);stroke-opacity:1;stroke-miterlimit:10;\" d=\"M 178.245375 -0.00125 L 139.089125 -0.00125 \" transform=\"matrix(1,0,0,-1,-4.011,7.03)\"/>\n",
       "<path style=\"fill:none;stroke-width:0.398;stroke-linecap:round;stroke-linejoin:round;stroke:rgb(0%,0%,0%);stroke-opacity:1;stroke-miterlimit:10;\" d=\"M -3.886094 -0.00125 L 3.883437 -0.00125 \" transform=\"matrix(1,0,0,-1,213.39,7.03)\"/>\n",
       "<path style=\"fill:none;stroke-width:0.398;stroke-linecap:round;stroke-linejoin:round;stroke:rgb(0%,0%,0%);stroke-opacity:1;stroke-miterlimit:10;\" d=\"M 0.000625 -3.884062 L 0.000625 3.885469 \" transform=\"matrix(1,0,0,-1,213.39,7.03)\"/>\n",
       "<path style=\"fill:none;stroke-width:0.398;stroke-linecap:round;stroke-linejoin:round;stroke:rgb(0%,0%,0%);stroke-opacity:1;stroke-miterlimit:10;\" d=\"M 0.000625 3.983125 C -2.198594 3.983125 -3.98375 2.197969 -3.98375 -0.00125 \" transform=\"matrix(1,0,0,-1,213.39,7.03)\"/>\n",
       "<path style=\"fill:none;stroke-width:0.398;stroke-linecap:round;stroke-linejoin:round;stroke:rgb(0%,0%,0%);stroke-opacity:1;stroke-miterlimit:10;\" d=\"M -3.98375 -0.00125 C -3.98375 -2.200469 -2.198594 -3.985625 0.000625 -3.985625 \" transform=\"matrix(1,0,0,-1,213.39,7.03)\"/>\n",
       "<path style=\"fill:none;stroke-width:0.398;stroke-linecap:round;stroke-linejoin:round;stroke:rgb(0%,0%,0%);stroke-opacity:1;stroke-miterlimit:10;\" d=\"M 0.000625 -3.985625 C 2.199844 -3.985625 3.985 -2.200469 3.985 -0.00125 \" transform=\"matrix(1,0,0,-1,213.39,7.03)\"/>\n",
       "<path style=\"fill:none;stroke-width:0.398;stroke-linecap:round;stroke-linejoin:round;stroke:rgb(0%,0%,0%);stroke-opacity:1;stroke-miterlimit:10;\" d=\"M 3.985 -0.00125 C 3.985 2.197969 2.199844 3.983125 0.000625 3.983125 \" transform=\"matrix(1,0,0,-1,213.39,7.03)\"/>\n",
       "<path style=\"fill:none;stroke-width:0.398;stroke-linecap:round;stroke-linejoin:round;stroke:rgb(0%,0%,0%);stroke-opacity:1;stroke-miterlimit:10;\" d=\"M 213.315687 -0.00125 L 178.245375 -0.00125 \" transform=\"matrix(1,0,0,-1,-4.011,7.03)\"/>\n",
       "<g style=\"fill:rgb(0%,0%,0%);fill-opacity:1;\">\n",
       "  <use xlink:href=\"#glyph3-1\" x=\"248.81\" y=\"10.434\"/>\n",
       "</g>\n",
       "<path style=\"fill:none;stroke-width:0.398;stroke-linecap:round;stroke-linejoin:round;stroke:rgb(0%,0%,0%);stroke-opacity:1;stroke-miterlimit:10;\" d=\"M 263.3235 6.393281 L 249.831312 6.393281 \" transform=\"matrix(1,0,0,-1,-4.011,7.03)\"/>\n",
       "<path style=\"fill:none;stroke-width:0.398;stroke-linecap:round;stroke-linejoin:round;stroke:rgb(0%,0%,0%);stroke-opacity:1;stroke-miterlimit:10;\" d=\"M 249.831312 6.393281 L 249.831312 -6.391875 \" transform=\"matrix(1,0,0,-1,-4.011,7.03)\"/>\n",
       "<path style=\"fill:none;stroke-width:0.398;stroke-linecap:round;stroke-linejoin:round;stroke:rgb(0%,0%,0%);stroke-opacity:1;stroke-miterlimit:10;\" d=\"M 249.831312 -6.391875 L 263.3235 -6.391875 \" transform=\"matrix(1,0,0,-1,-4.011,7.03)\"/>\n",
       "<path style=\"fill:none;stroke-width:0.398;stroke-linecap:round;stroke-linejoin:round;stroke:rgb(0%,0%,0%);stroke-opacity:1;stroke-miterlimit:10;\" d=\"M 263.3235 -6.391875 L 263.3235 6.393281 \" transform=\"matrix(1,0,0,-1,-4.011,7.03)\"/>\n",
       "<path style=\"fill:none;stroke-width:0.398;stroke-linecap:round;stroke-linejoin:round;stroke:rgb(0%,0%,0%);stroke-opacity:1;stroke-miterlimit:10;\" d=\"M 249.831312 -0.00125 L 221.487562 -0.00125 \" transform=\"matrix(1,0,0,-1,-4.011,7.03)\"/>\n",
       "<path style=\"fill:none;stroke-width:0.398;stroke-linecap:round;stroke-linejoin:round;stroke:rgb(0%,0%,0%);stroke-opacity:1;stroke-miterlimit:10;\" d=\"M 300.636 -0.00125 L 263.3235 -0.00125 \" transform=\"matrix(1,0,0,-1,-4.011,7.03)\"/>\n",
       "<path style=\"fill:none;stroke-width:0.398;stroke-linecap:round;stroke-linejoin:round;stroke:rgb(0%,0%,0%);stroke-opacity:1;stroke-miterlimit:10;\" d=\"M 346.913344 -0.00125 L 300.636 -0.00125 \" transform=\"matrix(1,0,0,-1,-4.011,7.03)\"/>\n",
       "<path style=\"fill:none;stroke-width:0.398;stroke-linecap:round;stroke-linejoin:round;stroke:rgb(0%,0%,0%);stroke-opacity:1;stroke-miterlimit:10;\" d=\"M 384.22975 -0.00125 L 346.913344 -0.00125 \" transform=\"matrix(1,0,0,-1,-4.011,7.03)\"/>\n",
       "<g style=\"fill:rgb(0%,0%,0%);fill-opacity:1;\">\n",
       "  <use xlink:href=\"#glyph0-1\" x=\"1.241\" y=\"51.234\"/>\n",
       "</g>\n",
       "<g style=\"fill:rgb(0%,0%,0%);fill-opacity:1;\">\n",
       "  <use xlink:href=\"#glyph1-1\" x=\"4.009\" y=\"51.234\"/>\n",
       "</g>\n",
       "<g style=\"fill:rgb(0%,0%,0%);fill-opacity:1;\">\n",
       "  <use xlink:href=\"#glyph2-2\" x=\"8.99\" y=\"52.728\"/>\n",
       "</g>\n",
       "<g style=\"fill:rgb(0%,0%,0%);fill-opacity:1;\">\n",
       "  <use xlink:href=\"#glyph0-2\" x=\"15.48\" y=\"51.234\"/>\n",
       "</g>\n",
       "<g style=\"fill:rgb(0%,0%,0%);fill-opacity:1;\">\n",
       "  <use xlink:href=\"#glyph1-2\" x=\"55.671\" y=\"52.147\"/>\n",
       "</g>\n",
       "<path style=\"fill:none;stroke-width:0.398;stroke-linecap:round;stroke-linejoin:round;stroke:rgb(0%,0%,0%);stroke-opacity:1;stroke-miterlimit:10;\" d=\"M 70.143812 -35.321562 L 56.694594 -35.321562 \" transform=\"matrix(1,0,0,-1,-4.011,7.03)\"/>\n",
       "<path style=\"fill:none;stroke-width:0.398;stroke-linecap:round;stroke-linejoin:round;stroke:rgb(0%,0%,0%);stroke-opacity:1;stroke-miterlimit:10;\" d=\"M 56.694594 -35.321562 L 56.694594 -48.106719 \" transform=\"matrix(1,0,0,-1,-4.011,7.03)\"/>\n",
       "<path style=\"fill:none;stroke-width:0.398;stroke-linecap:round;stroke-linejoin:round;stroke:rgb(0%,0%,0%);stroke-opacity:1;stroke-miterlimit:10;\" d=\"M 56.694594 -48.106719 L 70.143812 -48.106719 \" transform=\"matrix(1,0,0,-1,-4.011,7.03)\"/>\n",
       "<path style=\"fill:none;stroke-width:0.398;stroke-linecap:round;stroke-linejoin:round;stroke:rgb(0%,0%,0%);stroke-opacity:1;stroke-miterlimit:10;\" d=\"M 70.143812 -48.106719 L 70.143812 -35.321562 \" transform=\"matrix(1,0,0,-1,-4.011,7.03)\"/>\n",
       "<path style=\"fill:none;stroke-width:0.398;stroke-linecap:round;stroke-linejoin:round;stroke:rgb(0%,0%,0%);stroke-opacity:1;stroke-miterlimit:10;\" d=\"M 56.694594 -41.712187 L 28.346937 -41.712187 \" transform=\"matrix(1,0,0,-1,-4.011,7.03)\"/>\n",
       "<g style=\"fill:rgb(0%,0%,0%);fill-opacity:1;\">\n",
       "  <use xlink:href=\"#glyph0-3\" x=\"96.072\" y=\"51.206\"/>\n",
       "</g>\n",
       "<path style=\"fill:none;stroke-width:0.398;stroke-linecap:round;stroke-linejoin:round;stroke:rgb(0%,0%,0%);stroke-opacity:1;stroke-miterlimit:10;\" d=\"M 102.5735 -40.634062 L 102.5735 -4.083281 \" transform=\"matrix(1,0,0,-1,-4.011,7.03)\"/>\n",
       "<path style=\"fill:none;stroke-width:0.398;stroke-linecap:round;stroke-linejoin:round;stroke:rgb(0%,0%,0%);stroke-opacity:1;stroke-miterlimit:10;\" d=\"M 101.35475 -41.712187 L 70.143812 -41.712187 \" transform=\"matrix(1,0,0,-1,-4.011,7.03)\"/>\n",
       "<path style=\"fill:none;stroke-width:0.398;stroke-linecap:round;stroke-linejoin:round;stroke:rgb(0%,0%,0%);stroke-opacity:1;stroke-miterlimit:10;\" d=\"M -3.886594 0.0008125 L 3.886844 0.0008125 \" transform=\"matrix(1,0,0,-1,135.078,48.743)\"/>\n",
       "<path style=\"fill:none;stroke-width:0.398;stroke-linecap:round;stroke-linejoin:round;stroke:rgb(0%,0%,0%);stroke-opacity:1;stroke-miterlimit:10;\" d=\"M 0.000125 -3.885906 L 0.000125 3.883625 \" transform=\"matrix(1,0,0,-1,135.078,48.743)\"/>\n",
       "<path style=\"fill:none;stroke-width:0.398;stroke-linecap:round;stroke-linejoin:round;stroke:rgb(0%,0%,0%);stroke-opacity:1;stroke-miterlimit:10;\" d=\"M 0.000125 3.985188 C -2.199094 3.985188 -3.98425 2.200031 -3.98425 0.0008125 \" transform=\"matrix(1,0,0,-1,135.078,48.743)\"/>\n",
       "<path style=\"fill:none;stroke-width:0.398;stroke-linecap:round;stroke-linejoin:round;stroke:rgb(0%,0%,0%);stroke-opacity:1;stroke-miterlimit:10;\" d=\"M -3.98425 0.0008125 C -3.98425 -2.198406 -2.199094 -3.983562 0.000125 -3.983562 \" transform=\"matrix(1,0,0,-1,135.078,48.743)\"/>\n",
       "<path style=\"fill:none;stroke-width:0.398;stroke-linecap:round;stroke-linejoin:round;stroke:rgb(0%,0%,0%);stroke-opacity:1;stroke-miterlimit:10;\" d=\"M 0.000125 -3.983562 C 2.199344 -3.983562 3.9845 -2.198406 3.9845 0.0008125 \" transform=\"matrix(1,0,0,-1,135.078,48.743)\"/>\n",
       "<path style=\"fill:none;stroke-width:0.398;stroke-linecap:round;stroke-linejoin:round;stroke:rgb(0%,0%,0%);stroke-opacity:1;stroke-miterlimit:10;\" d=\"M 3.9845 0.0008125 C 3.9845 2.200031 2.199344 3.985188 0.000125 3.985188 \" transform=\"matrix(1,0,0,-1,135.078,48.743)\"/>\n",
       "<path style=\"fill:none;stroke-width:0.398;stroke-linecap:round;stroke-linejoin:round;stroke:rgb(0%,0%,0%);stroke-opacity:1;stroke-miterlimit:10;\" d=\"M 135.003187 -41.712187 L 103.79225 -41.712187 \" transform=\"matrix(1,0,0,-1,-4.011,7.03)\"/>\n",
       "<path style=\"fill:none;stroke-width:0.398;stroke-linecap:round;stroke-linejoin:round;stroke:rgb(0%,0%,0%);stroke-opacity:1;stroke-miterlimit:10;\" d=\"M 178.245375 -41.712187 L 143.175062 -41.712187 \" transform=\"matrix(1,0,0,-1,-4.011,7.03)\"/>\n",
       "<g style=\"fill:rgb(0%,0%,0%);fill-opacity:1;\">\n",
       "  <use xlink:href=\"#glyph0-3\" x=\"210.899\" y=\"51.206\"/>\n",
       "</g>\n",
       "<path style=\"fill:none;stroke-width:0.398;stroke-linecap:round;stroke-linejoin:round;stroke:rgb(0%,0%,0%);stroke-opacity:1;stroke-miterlimit:10;\" d=\"M 217.401625 -40.634062 L 217.401625 -4.083281 \" transform=\"matrix(1,0,0,-1,-4.011,7.03)\"/>\n",
       "<path style=\"fill:none;stroke-width:0.398;stroke-linecap:round;stroke-linejoin:round;stroke:rgb(0%,0%,0%);stroke-opacity:1;stroke-miterlimit:10;\" d=\"M 216.182875 -41.712187 L 178.245375 -41.712187 \" transform=\"matrix(1,0,0,-1,-4.011,7.03)\"/>\n",
       "<path style=\"fill:none;stroke-width:0.398;stroke-linecap:round;stroke-linejoin:round;stroke:rgb(0%,0%,0%);stroke-opacity:1;stroke-miterlimit:10;\" d=\"M 256.577406 -41.712187 L 218.620375 -41.712187 \" transform=\"matrix(1,0,0,-1,-4.011,7.03)\"/>\n",
       "<path style=\"fill:none;stroke-width:0.398;stroke-linecap:round;stroke-linejoin:round;stroke:rgb(0%,0%,0%);stroke-opacity:1;stroke-miterlimit:10;\" d=\"M 300.636 -41.712187 L 256.577406 -41.712187 \" transform=\"matrix(1,0,0,-1,-4.011,7.03)\"/>\n",
       "<path style=\"fill:none;stroke-width:0.398;stroke-linecap:round;stroke-linejoin:round;stroke:rgb(0%,0%,0%);stroke-opacity:1;stroke-miterlimit:10;\" d=\"M -7.751656 -3.206219 C -3.505562 1.035969 3.369438 1.067219 7.654594 -3.112469 \" transform=\"matrix(1,0,0,-1,342.904,48.743)\"/>\n",
       "<path style=\"fill:none;stroke-width:0.398;stroke-linecap:round;stroke-linejoin:round;stroke:rgb(0%,0%,0%);stroke-opacity:1;stroke-miterlimit:10;\" d=\"M -0.00165625 -3.983562 L 4.982719 4.981281 \" transform=\"matrix(1,0,0,-1,342.904,48.743)\"/>\n",
       "<path style=\"fill:none;stroke-width:0.398;stroke-linecap:round;stroke-linejoin:round;stroke:rgb(0%,0%,0%);stroke-opacity:1;stroke-miterlimit:10;\" d=\"M 355.882094 -34.739531 L 337.9485 -34.739531 \" transform=\"matrix(1,0,0,-1,-4.011,7.03)\"/>\n",
       "<path style=\"fill:none;stroke-width:0.398;stroke-linecap:round;stroke-linejoin:round;stroke:rgb(0%,0%,0%);stroke-opacity:1;stroke-miterlimit:10;\" d=\"M 337.9485 -34.739531 L 337.9485 -48.68875 \" transform=\"matrix(1,0,0,-1,-4.011,7.03)\"/>\n",
       "<path style=\"fill:none;stroke-width:0.398;stroke-linecap:round;stroke-linejoin:round;stroke:rgb(0%,0%,0%);stroke-opacity:1;stroke-miterlimit:10;\" d=\"M 337.9485 -48.68875 L 355.882094 -48.68875 \" transform=\"matrix(1,0,0,-1,-4.011,7.03)\"/>\n",
       "<path style=\"fill:none;stroke-width:0.398;stroke-linecap:round;stroke-linejoin:round;stroke:rgb(0%,0%,0%);stroke-opacity:1;stroke-miterlimit:10;\" d=\"M 355.882094 -48.68875 L 355.882094 -34.739531 \" transform=\"matrix(1,0,0,-1,-4.011,7.03)\"/>\n",
       "<path style=\"fill:none;stroke-width:0.398;stroke-linecap:round;stroke-linejoin:round;stroke:rgb(0%,0%,0%);stroke-opacity:1;stroke-miterlimit:10;\" d=\"M 337.9485 -41.712187 L 300.636 -41.712187 \" transform=\"matrix(1,0,0,-1,-4.011,7.03)\"/>\n",
       "<path style=\"fill:none;stroke-width:0.398;stroke-linecap:round;stroke-linejoin:round;stroke:rgb(0%,0%,0%);stroke-opacity:1;stroke-miterlimit:10;\" d=\"M 384.22975 -41.712187 L 355.882094 -41.712187 \" transform=\"matrix(1,0,0,-1,-4.011,7.03)\"/>\n",
       "<g style=\"fill:rgb(0%,0%,0%);fill-opacity:1;\">\n",
       "  <use xlink:href=\"#glyph0-1\" x=\"-0.267\" y=\"93.528\"/>\n",
       "</g>\n",
       "<g style=\"fill:rgb(0%,0%,0%);fill-opacity:1;\">\n",
       "  <use xlink:href=\"#glyph3-2\" x=\"2.5\" y=\"93.528\"/>\n",
       "</g>\n",
       "<g style=\"fill:rgb(0%,0%,0%);fill-opacity:1;\">\n",
       "  <use xlink:href=\"#glyph2-2\" x=\"8.99\" y=\"95.022\"/>\n",
       "</g>\n",
       "<g style=\"fill:rgb(0%,0%,0%);fill-opacity:1;\">\n",
       "  <use xlink:href=\"#glyph0-2\" x=\"15.48\" y=\"93.528\"/>\n",
       "</g>\n",
       "<path style=\"fill:none;stroke-width:0.398;stroke-linecap:round;stroke-linejoin:round;stroke:rgb(0%,0%,0%);stroke-opacity:1;stroke-miterlimit:10;\" d=\"M 63.41725 -84.005156 L 28.346937 -84.005156 \" transform=\"matrix(1,0,0,-1,-4.011,7.03)\"/>\n",
       "<path style=\"fill:none;stroke-width:0.398;stroke-linecap:round;stroke-linejoin:round;stroke:rgb(0%,0%,0%);stroke-opacity:1;stroke-miterlimit:10;\" d=\"M 102.5735 -84.005156 L 63.41725 -84.005156 \" transform=\"matrix(1,0,0,-1,-4.011,7.03)\"/>\n",
       "<g style=\"fill:rgb(0%,0%,0%);fill-opacity:1;\">\n",
       "  <use xlink:href=\"#glyph0-3\" x=\"132.587\" y=\"93.5\"/>\n",
       "</g>\n",
       "<path style=\"fill:none;stroke-width:0.398;stroke-linecap:round;stroke-linejoin:round;stroke:rgb(0%,0%,0%);stroke-opacity:1;stroke-miterlimit:10;\" d=\"M 139.089125 -82.927031 L 139.089125 -45.798125 \" transform=\"matrix(1,0,0,-1,-4.011,7.03)\"/>\n",
       "<path style=\"fill:none;stroke-width:0.398;stroke-linecap:round;stroke-linejoin:round;stroke:rgb(0%,0%,0%);stroke-opacity:1;stroke-miterlimit:10;\" d=\"M 137.870375 -84.005156 L 102.5735 -84.005156 \" transform=\"matrix(1,0,0,-1,-4.011,7.03)\"/>\n",
       "<g style=\"fill:rgb(0%,0%,0%);fill-opacity:1;\">\n",
       "  <use xlink:href=\"#glyph1-2\" x=\"170.498\" y=\"94.441\"/>\n",
       "</g>\n",
       "<path style=\"fill:none;stroke-width:0.398;stroke-linecap:round;stroke-linejoin:round;stroke:rgb(0%,0%,0%);stroke-opacity:1;stroke-miterlimit:10;\" d=\"M 184.971937 -77.614531 L 171.518812 -77.614531 \" transform=\"matrix(1,0,0,-1,-4.011,7.03)\"/>\n",
       "<path style=\"fill:none;stroke-width:0.398;stroke-linecap:round;stroke-linejoin:round;stroke:rgb(0%,0%,0%);stroke-opacity:1;stroke-miterlimit:10;\" d=\"M 171.518812 -77.614531 L 171.518812 -90.399687 \" transform=\"matrix(1,0,0,-1,-4.011,7.03)\"/>\n",
       "<path style=\"fill:none;stroke-width:0.398;stroke-linecap:round;stroke-linejoin:round;stroke:rgb(0%,0%,0%);stroke-opacity:1;stroke-miterlimit:10;\" d=\"M 171.518812 -90.399687 L 184.971937 -90.399687 \" transform=\"matrix(1,0,0,-1,-4.011,7.03)\"/>\n",
       "<path style=\"fill:none;stroke-width:0.398;stroke-linecap:round;stroke-linejoin:round;stroke:rgb(0%,0%,0%);stroke-opacity:1;stroke-miterlimit:10;\" d=\"M 184.971937 -90.399687 L 184.971937 -77.614531 \" transform=\"matrix(1,0,0,-1,-4.011,7.03)\"/>\n",
       "<path style=\"fill:none;stroke-width:0.398;stroke-linecap:round;stroke-linejoin:round;stroke:rgb(0%,0%,0%);stroke-opacity:1;stroke-miterlimit:10;\" d=\"M 171.518812 -84.005156 L 140.307875 -84.005156 \" transform=\"matrix(1,0,0,-1,-4.011,7.03)\"/>\n",
       "<path style=\"fill:none;stroke-width:0.398;stroke-linecap:round;stroke-linejoin:round;stroke:rgb(0%,0%,0%);stroke-opacity:1;stroke-miterlimit:10;\" d=\"M 217.401625 -84.005156 L 184.971937 -84.005156 \" transform=\"matrix(1,0,0,-1,-4.011,7.03)\"/>\n",
       "<g style=\"fill:rgb(0%,0%,0%);fill-opacity:1;\">\n",
       "  <use xlink:href=\"#glyph0-3\" x=\"250.076\" y=\"93.5\"/>\n",
       "</g>\n",
       "<path style=\"fill:none;stroke-width:0.398;stroke-linecap:round;stroke-linejoin:round;stroke:rgb(0%,0%,0%);stroke-opacity:1;stroke-miterlimit:10;\" d=\"M 256.577406 -82.927031 L 256.577406 -6.391875 \" transform=\"matrix(1,0,0,-1,-4.011,7.03)\"/>\n",
       "<path style=\"fill:none;stroke-width:0.398;stroke-linecap:round;stroke-linejoin:round;stroke:rgb(0%,0%,0%);stroke-opacity:1;stroke-miterlimit:10;\" d=\"M 255.358656 -84.005156 L 217.401625 -84.005156 \" transform=\"matrix(1,0,0,-1,-4.011,7.03)\"/>\n",
       "<path style=\"fill:none;stroke-width:0.398;stroke-linecap:round;stroke-linejoin:round;stroke:rgb(0%,0%,0%);stroke-opacity:1;stroke-miterlimit:10;\" d=\"M -7.75 -3.209094 C -3.507812 1.037 3.367188 1.06825 7.652344 -3.111437 \" transform=\"matrix(1,0,0,-1,296.625,91.037)\"/>\n",
       "<path style=\"fill:none;stroke-width:0.398;stroke-linecap:round;stroke-linejoin:round;stroke:rgb(0%,0%,0%);stroke-opacity:1;stroke-miterlimit:10;\" d=\"M 0 -3.986437 L 4.980469 4.982313 \" transform=\"matrix(1,0,0,-1,296.625,91.037)\"/>\n",
       "<path style=\"fill:none;stroke-width:0.398;stroke-linecap:round;stroke-linejoin:round;stroke:rgb(0%,0%,0%);stroke-opacity:1;stroke-miterlimit:10;\" d=\"M 309.60475 -77.0325 L 291.671156 -77.0325 \" transform=\"matrix(1,0,0,-1,-4.011,7.03)\"/>\n",
       "<path style=\"fill:none;stroke-width:0.398;stroke-linecap:round;stroke-linejoin:round;stroke:rgb(0%,0%,0%);stroke-opacity:1;stroke-miterlimit:10;\" d=\"M 291.671156 -77.0325 L 291.671156 -90.981719 \" transform=\"matrix(1,0,0,-1,-4.011,7.03)\"/>\n",
       "<path style=\"fill:none;stroke-width:0.398;stroke-linecap:round;stroke-linejoin:round;stroke:rgb(0%,0%,0%);stroke-opacity:1;stroke-miterlimit:10;\" d=\"M 291.671156 -90.981719 L 309.60475 -90.981719 \" transform=\"matrix(1,0,0,-1,-4.011,7.03)\"/>\n",
       "<path style=\"fill:none;stroke-width:0.398;stroke-linecap:round;stroke-linejoin:round;stroke:rgb(0%,0%,0%);stroke-opacity:1;stroke-miterlimit:10;\" d=\"M 309.60475 -90.981719 L 309.60475 -77.0325 \" transform=\"matrix(1,0,0,-1,-4.011,7.03)\"/>\n",
       "<path style=\"fill:none;stroke-width:0.398;stroke-linecap:round;stroke-linejoin:round;stroke:rgb(0%,0%,0%);stroke-opacity:1;stroke-miterlimit:10;\" d=\"M 291.671156 -84.005156 L 257.796156 -84.005156 \" transform=\"matrix(1,0,0,-1,-4.011,7.03)\"/>\n",
       "<path style=\"fill:none;stroke-width:0.398;stroke-linecap:round;stroke-linejoin:round;stroke:rgb(0%,0%,0%);stroke-opacity:1;stroke-miterlimit:10;\" d=\"M 346.913344 -84.005156 L 309.60475 -84.005156 \" transform=\"matrix(1,0,0,-1,-4.011,7.03)\"/>\n",
       "<path style=\"fill:none;stroke-width:0.398;stroke-linecap:round;stroke-linejoin:round;stroke:rgb(0%,0%,0%);stroke-opacity:1;stroke-miterlimit:10;\" d=\"M 384.22975 -84.005156 L 346.913344 -84.005156 \" transform=\"matrix(1,0,0,-1,-4.011,7.03)\"/>\n",
       "</g>\n",
       "</svg>\n"
      ],
      "text/plain": [
       "<qutip_qip.circuit.circuit.QubitCircuit at 0x7f08056c4af0>"
      ]
     },
     "execution_count": 105,
     "metadata": {},
     "output_type": "execute_result"
    }
   ],
   "source": [
    "teleportation"
   ]
  },
  {
   "cell_type": "markdown",
   "metadata": {},
   "source": [
    "This should look exactly like the circuit given above, just flipped upside down."
   ]
  },
  {
   "cell_type": "markdown",
   "metadata": {},
   "source": [
    "### Gate-level circuit simulation <a name=\"gates\"></a>"
   ]
  },
  {
   "cell_type": "markdown",
   "metadata": {},
   "source": [
    "The `QubitCircuit` class provides a [`run`](https://qutip-qip.readthedocs.io/en/stable/apidoc/qutip_qip.circuit.html#qutip_qip.circuit.QubitCircuit.run) method that allows us to simulate the circuit at the gate level. Given some initial state, this method returns the final state after annalytically applying all the gates and measurements in the circuit.\n",
    "\n",
    "We'll try this out for an initial state $|\\psi\\rangle = |+\\rangle$:"
   ]
  },
  {
   "cell_type": "code",
   "execution_count": 106,
   "metadata": {},
   "outputs": [
    {
     "data": {
      "text/latex": [
       "Quantum object: dims=[[2], [1]], shape=(2, 1), type='ket', dtype=Dense$$\\left(\\begin{array}{cc}0.707\\\\0.707\\end{array}\\right)$$"
      ],
      "text/plain": [
       "Quantum object: dims=[[2], [1]], shape=(2, 1), type='ket', dtype=Dense\n",
       "Qobj data =\n",
       "[[0.70710678]\n",
       " [0.70710678]]"
      ]
     },
     "execution_count": 106,
     "metadata": {},
     "output_type": "execute_result"
    }
   ],
   "source": [
    "psi = 1 / sqrt(2) * qt.basis(2, 0) + 1 / sqrt(2) * qt.basis(2, 1)\n",
    "psi"
   ]
  },
  {
   "cell_type": "markdown",
   "metadata": {},
   "source": [
    "Tensoring this state with two ancillas in the $|0\\rangle$ state and passing it to `run` allows us to obtain the final state after gates and measurements."
   ]
  },
  {
   "cell_type": "code",
   "execution_count": 107,
   "metadata": {},
   "outputs": [
    {
     "data": {
      "text/latex": [
       "Quantum object: dims=[[2, 2, 2], [1, 1, 1]], shape=(8, 1), type='ket', dtype=Dense$$\\left(\\begin{array}{cc}0\\\\0\\\\0.707\\\\0.707\\\\0\\\\0\\\\0\\\\0\\end{array}\\right)$$"
      ],
      "text/plain": [
       "Quantum object: dims=[[2, 2, 2], [1, 1, 1]], shape=(8, 1), type='ket', dtype=Dense\n",
       "Qobj data =\n",
       "[[0.        ]\n",
       " [0.        ]\n",
       " [0.70710678]\n",
       " [0.70710678]\n",
       " [0.        ]\n",
       " [0.        ]\n",
       " [0.        ]\n",
       " [0.        ]]"
      ]
     },
     "execution_count": 107,
     "metadata": {},
     "output_type": "execute_result"
    }
   ],
   "source": [
    "state_initial = qt.tensor(psi, qt.basis(2, 0), qt.basis(2, 0))  \n",
    "state_final = teleportation.run(state_initial)\n",
    "state_final # the final state will be different between runs, depending on the measurement outcomes"
   ]
  },
  {
   "cell_type": "markdown",
   "metadata": {},
   "source": [
    "We can check if the teleportation worked by checking if Bob actually ends up with a $|+\\rangle> state. We can do this by constructing a projector $I \\otimes I \\otimes |+\\rangle\\langle+|$ which projects Bob's qubit onto the $|+\\rangle$ state, and computing its expectation value."
   ]
  },
  {
   "cell_type": "code",
   "execution_count": 119,
   "metadata": {},
   "outputs": [
    {
     "name": "stdout",
     "output_type": "stream",
     "text": [
      "Overlap between initial and teleported state: (0.9999999999999997+0j)\n"
     ]
    }
   ],
   "source": [
    "P = qt.tensor(qt.qeye(2), qt.qeye(2), psi * psi.dag())\n",
    "print(f\"Overlap between initial and teleported state: {state_final.dag() * P * state_final}\")"
   ]
  },
  {
   "cell_type": "markdown",
   "metadata": {},
   "source": [
    "This will always work, regardless of the actual measurement outcome or the initial state. You can try some other initial states and investigate the [`run` statistics](https://qutip-qip.readthedocs.io/en/stable/apidoc/qutip_qip.circuit.html?highlight=run_statistics#qutip_qip.circuit.CircuitSimulator.run_statistics) to verify this."
   ]
  },
  {
   "cell_type": "markdown",
   "metadata": {},
   "source": [
    "## Example: pulse sequences and noisy components <a name=\"example2\"></a>"
   ]
  },
  {
   "cell_type": "markdown",
   "metadata": {},
   "source": [
    "An analytic circuit simulation like the one we just did can come in handy sometimes.\n",
    "However, it is not very representative of the result of actually running this circuit on a\n",
    "physical device, as we will discuss next."
   ]
  },
  {
   "cell_type": "markdown",
   "metadata": {},
   "source": [
    "### Implementing a circuit on a quantum device <a name=\"devices\"></a>"
   ]
  },
  {
   "cell_type": "markdown",
   "metadata": {},
   "source": [
    "We have seen many circuits throughout the lectures, but we have never really considered how\n",
    "a quantum circuit actually executed on a physical devices.\n",
    "\n",
    "The quantum circuits we have considered act on qubits, which are abstract objects\n",
    "representing the simplest two-level quantum system. Various hardware platforms have been\n",
    "devised which can serve as a physical realization of these abstract entities, including\n",
    "superconducting systems, trapped ions, neutral atoms and semiconductor quantum dots. A real\n",
    "quantum computer consists of a collection of these physical qubits, which can be\n",
    "individually controlled as well as coupled along the connections dictated by the device\n",
    "geometry. Running a quantum circuit consisting of some set of gates on such a device then\n",
    "similarly requires a physical implementation of these gates. To this end, a given circuit is\n",
    "typically compiled to a sequence of control pulses that drive the physical components and\n",
    "their couplings. These pulses implement time-dependent interactions, the nature of which\n",
    "depends on the specific hardware platform, and are chosen in such a way that the\n",
    "corresponding dynamics precisely implement the appropriate gate sequence on the physical\n",
    "level.\n",
    "\n",
    "Since any real component is inherently subject to noise and dissipation, we conclude that\n",
    "studying the execution of circuits on real quantum devices corresponds to studying the\n",
    "time-dependent dynamics of the corresponding noisy physical system as it is driven by\n",
    "control pulses. As an example of this, we will simulate the execution of the above\n",
    "teleportation circuit on a realistic device\n",
    "[using QuTiP](https://qutip-qip.readthedocs.io/en/stable/qip-processor.html#pulse-level-circuit-simulation)."
   ]
  },
  {
   "cell_type": "markdown",
   "metadata": {},
   "source": [
    "In our example, we will choose a physical implementation of a qubit as a single spin-1/2 particles, which could for example correspond to a single electron in a quantom dot. In particular, we will consider a linear chain of three of these spin qubits as our complete physical system. In QuTiP, such a system is represented as a [`LinearSpinChain`](https://qutip-qip.readthedocs.io/en/stable/apidoc/qutip_qip.device.html#qutip_qip.device.LinearSpinChain).\n",
    "\n",
    "The dynamics of this spin chain can be controlled through a [time-dependent Hamiltonian](https://qutip-qip.readthedocs.io/en/stable/apidoc/qutip_qip.device.html#qutip_qip.device.SpinChainModel) of the form\n",
    "$$\n",
    "H=\n",
    "\\sum_{j=0}^{N-1}\n",
    "\\Omega^x_{j}(t) \\sigma^x_{j} +\n",
    "\\Omega^z_{j}(t) \\sigma^z_{j} + \\sum_{j=0}^{N-2}\n",
    "g_{j}(t)\n",
    "(\\sigma^x_{j}\\sigma^x_{j+1}+\n",
    "\\sigma^y_{j}\\sigma^y_{j+1}).\n",
    "$$\n",
    "To run a circuit on this device, it is transformed into a time sequence of control pulses that encode the values of the prefactors $\\Omega^x_{j}(t)$ and $\\Omega^z_{j}(t)$ of the single-qubit drives $\\sigma_j^x$ and $\\sigma_j^z$, and the coupling strengths $g_{j}(t)$ of the nearest-neighbor interation $\\sigma^x_{j}\\sigma^x_{j+1}+\\sigma^y_{j}\\sigma^y_{j+1}$ at each time step.\n",
    "\n",
    "We can convert our teleportation circuit to a pulse sequence on a `LinearSpinChain` using the [`load_circuit` method](https://qutip-qip.readthedocs.io/en/stable/apidoc/qutip_qip.device.html#qutip_qip.device.LinearSpinChain.load_circuit)."
   ]
  },
  {
   "cell_type": "code",
   "execution_count": 109,
   "metadata": {},
   "outputs": [],
   "source": [
    "from qutip_qip.device import LinearSpinChain"
   ]
  },
  {
   "cell_type": "code",
   "execution_count": 110,
   "metadata": {},
   "outputs": [],
   "source": [
    "# remove measurements, these are not really relevant right now\n",
    "teleportation.remove_gate_or_measurement(name=\"M0\")\n",
    "teleportation.remove_gate_or_measurement(name=\"M1\")\n",
    "\n",
    "# initialize device and load circuit for compilation\n",
    "processor = LinearSpinChain(3)\n",
    "processor.load_circuit(teleportation);"
   ]
  },
  {
   "cell_type": "markdown",
   "metadata": {},
   "source": [
    "Once we have our device and loaded in the circuit, we can simply plot the corresponding pulse sequence:"
   ]
  },
  {
   "cell_type": "code",
   "execution_count": 111,
   "metadata": {},
   "outputs": [
    {
     "name": "stderr",
     "output_type": "stream",
     "text": [
      "/tmp/ipykernel_128005/3559968191.py:3: UserWarning: FigureCanvasAgg is non-interactive, and thus cannot be shown\n",
      "  fig.show()\n"
     ]
    },
    {
     "data": {
      "image/png": "[encoded data removed]",
      "text/plain": [
       "<Figure size 800x500 with 8 Axes>"
      ]
     },
     "metadata": {},
     "output_type": "display_data"
    }
   ],
   "source": [
    "fig, ax = processor.plot_pulses(figsize=(8, 5))\n",
    "ax[-1].set_xlabel(\"$t$\")\n",
    "fig.show()"
   ]
  },
  {
   "cell_type": "markdown",
   "metadata": {},
   "source": [
    "Given our device and a circuit, we can simulate its execution on the device using the [`run_state` method](https://qutip-qip.readthedocs.io/en/stable/apidoc/qutip_qip.device.html#qutip_qip.device.Processor.run_state). This can either be done analytically, or by integrating the time-dependent pulse dynamics using `mesolve`"
   ]
  },
  {
   "cell_type": "code",
   "execution_count": 112,
   "metadata": {},
   "outputs": [
    {
     "name": "stdout",
     "output_type": "stream",
     "text": [
      "Fidelity between gate-level and analytical run: 0.9999999999999982\n",
      "Fidelity between gate-level and pulse-level run: 0.9999999241124827\n"
     ]
    },
    {
     "name": "stderr",
     "output_type": "stream",
     "text": [
      "/home/leburgel/Dropbox/phd/teaching/QComp/2023-2024/Tutorials/numerics_session/venv/lib/python3.9/site-packages/qutip/solver/options.py:16: FutureWarning: Dedicated options class are no longer needed, options should be passed as dict to solvers.\n",
      "  warnings.warn(\n"
     ]
    }
   ],
   "source": [
    "# regular gate-level circuit run\n",
    "state_final1 = teleportation.run(state_initial)\n",
    "\n",
    "# analytic device run\n",
    "propagators = processor.run_state(state_initial, analytical=True)\n",
    "state_final2 = propagators[0]\n",
    "for U in propagators[1:]:\n",
    "    state_final2 = U * state_final2\n",
    "print(f\"Fidelity between gate-level and analytical run: {qt.fidelity(state_final1, state_final2)}\") # perfect\n",
    "\n",
    "# pulse-level device run\n",
    "state_final3 = processor.run_state(state_initial).states[-1]\n",
    "print(f\"Fidelity between gate-level and pulse-level run: {qt.fidelity(state_final1, state_final3)}\") # very good"
   ]
  },
  {
   "cell_type": "markdown",
   "metadata": {},
   "source": [
    "At this point, we have not yet considered noise in the device. Indeed, we see that even when integrating the pulse-level dynamics the result lies very close to the analytical expectation."
   ]
  },
  {
   "cell_type": "code",
   "execution_count": 113,
   "metadata": {},
   "outputs": [
    {
     "data": {
      "text/plain": [
       "[]"
      ]
     },
     "execution_count": 113,
     "metadata": {},
     "output_type": "execute_result"
    }
   ],
   "source": [
    "processor.get_noise() # no actual noise by default"
   ]
  },
  {
   "cell_type": "markdown",
   "metadata": {},
   "source": [
    "### Noisy pulse-level circuit simulation <a name=\"noise\"></a>"
   ]
  },
  {
   "cell_type": "code",
   "execution_count": 114,
   "metadata": {},
   "outputs": [],
   "source": [
    "from qutip_qip.noise import RelaxationNoise, RandomNoise"
   ]
  },
  {
   "cell_type": "markdown",
   "metadata": {},
   "source": [
    "To actually make our simulations realistic, we should [take into account the noise](https://qutip-qip.readthedocs.io/en/stable/qip-processor.html#noise-simulation) that will actually occur in the device. This noise will then be reflected as jump operators in the master equation that cause the system to decohere, and decrease the resulting fidelity of the teleportation circuit. To see this, we will repeat the above simulation where we will now take into account two types of noise."
   ]
  },
  {
   "cell_type": "markdown",
   "metadata": {},
   "source": [
    "The first type is physical *relaxation noise* caused by the inevitable interactions of our spin qubits with their environment. This type of noise is usually modeled in terms of two 'lifetimes' of a qubit, namely the coherence time $t_1$ and the dephasing time $t_2$.\n",
    "\n",
    "Physically, these two times directly dictate the decay rates of two Lindblad jump operators:\n",
    "- the decoherence operator $L = \\sigma^-$ with rate $1/\\sqrt{t_1}$, where $a$ is the bosonic destruction operator for an $n$-level system\n",
    "- dephasing operator $L = \\sigma^+ \\sigma^-$ with rate $\\sqrt{2/t_2^*}$, where $a^+ a^- = \\hat n$ is the bosonic number operator for an $n$-level system and $t_2^*$ is the pure dephasing time given by $1/t_2^* = 1/t_2 - 1/(2t_1)$\n",
    "\n",
    "This type of noise can be modeled through the [`RelaxationNoise`](https://qutip-qip.readthedocs.io/en/stable/apidoc/qutip_qip.noise.html#qutip_qip.noise.RelaxationNoise) class which takes these two lifetimes as input."
   ]
  },
  {
   "cell_type": "code",
   "execution_count": 115,
   "metadata": {},
   "outputs": [],
   "source": [
    "relaxation_noise = RelaxationNoise(t1=52., t2=77.) # lifetimes correspond to an actual IBM device spec"
   ]
  },
  {
   "cell_type": "markdown",
   "metadata": {},
   "source": [
    "The second type of noise is control pulse amplitude noise, and corresponds to random fluctuations in the amplitude of the control pulse signals we have plotten before. This type of noise can be modeled through the [`RandomNoise`](https://qutip-qip.readthedocs.io/en/stable/apidoc/qutip_qip.noise.html#qutip_qip.noise.RandomNoise) class as:"
   ]
  },
  {
   "cell_type": "code",
   "execution_count": 116,
   "metadata": {},
   "outputs": [],
   "source": [
    "control_noise = RandomNoise(\n",
    "    dt=0.01, rand_gen=np.random.normal, loc=0.00, scale=0.02) # realistic control pulse noise"
   ]
  },
  {
   "cell_type": "markdown",
   "metadata": {},
   "source": [
    "We can then add this noise to our device, repeat the pulse-level simulation and compare the resulting fidelity to what we obtained before."
   ]
  },
  {
   "cell_type": "code",
   "execution_count": 117,
   "metadata": {},
   "outputs": [
    {
     "data": {
      "text/plain": [
       "[<qutip_qip.noise.RelaxationNoise at 0x7f08054aee80>,\n",
       " <qutip_qip.noise.RandomNoise at 0x7f08054aea90>]"
      ]
     },
     "execution_count": 117,
     "metadata": {},
     "output_type": "execute_result"
    }
   ],
   "source": [
    "processor.add_noise(relaxation_noise)\n",
    "processor.add_noise(control_noise)\n",
    "processor.get_noise()"
   ]
  },
  {
   "cell_type": "code",
   "execution_count": 118,
   "metadata": {},
   "outputs": [
    {
     "name": "stdout",
     "output_type": "stream",
     "text": [
      "Fidelity between gate-level and noisy pulse-level run: 0.7073021825294867\n"
     ]
    }
   ],
   "source": [
    "state_final4 = processor.run_state(state_initial).states[-1]\n",
    "print(f\"Fidelity between gate-level and noisy pulse-level run: {qt.fidelity(state_final1, state_final4)}\")"
   ]
  },
  {
   "cell_type": "markdown",
   "metadata": {},
   "source": [
    "This fidelity is a lot lower than what we obtained before. Indeed, physical noise in quantum poses a formidable challenge to any sizeable quantum computation!"
   ]
  },
  {
   "cell_type": "markdown",
   "metadata": {},
   "source": []
  }
 ],
 "metadata": {
  "kernelspec": {
   "display_name": "Python 3 (ipykernel)",
   "language": "python",
   "name": "python3"
  },
  "language_info": {
   "codemirror_mode": {
    "name": "ipython",
    "version": 3
   },
   "file_extension": ".py",
   "mimetype": "text/x-python",
   "name": "python",
   "nbconvert_exporter": "python",
   "pygments_lexer": "ipython3",
   "version": "3.8.3"
  }
 },
 "nbformat": 4,
 "nbformat_minor": 4
}
