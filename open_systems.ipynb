{
 "cells": [
  {
   "cell_type": "markdown",
   "metadata": {},
   "source": [
    "# Simulating open quantum systems"
   ]
  },
  {
   "cell_type": "markdown",
   "metadata": {},
   "source": [
    "## Contents\n",
    "\n",
    "- [Introduction](#intro)\n",
    "    - [Open quantum systems](#open_systems)\n",
    "    - [Dynamics in open systems](#open_dynamics)\n",
    "- [Simulating open quantum systems](#open_simulation)\n",
    "    - [Basic quantum objects and operations](#qobjects)\n",
    "    - [Solving the master equation](#master_eq)\n",
    "- [Example: the quantum teleportation circuit](#example1)\n",
    "    - [Defining a quantum circuit](#teleportation)\n",
    "    - [Gate-level circuit simulation](#gates)\n",
    "- [Example: pulse sequences and noisy components](#example2)\n",
    "    - [Implementing a circuit on a quantum device](#devices)\n",
    "    - [Noisy pulse-level circuit simulation](#noise)"
   ]
  },
  {
   "cell_type": "markdown",
   "metadata": {},
   "source": [
    "## Introduction <a name=\"intro\"></a>"
   ]
  },
  {
   "cell_type": "markdown",
   "metadata": {},
   "source": [
    "### Open quantum systems <a name=\"open_systems\"></a>"
   ]
  },
  {
   "cell_type": "markdown",
   "metadata": {},
   "source": [
    "In the lecture notes, we have have seen that the state of a subsystem of a composite quantum\n",
    "system is naturally described by a density operator, which is a positive semi-definite\n",
    "operator with unit trace. In particular, given a composite system $\\mathcal{H}_A \\otimes\n",
    "\\mathcal{H}_B$ in a state $|\\psi\\rangle_{AB}$, the measurement statistics of any operator\n",
    "that only acts the subsystem $A$ are entirely captured by the reduced density operator\n",
    "\n",
    "$$\\rho_A = \\text{tr}_B(|\\psi\\rangle_{AB}\\langle\\psi|_{AB}).$$\n",
    "\n",
    "Such a reduced density operator is generally refered to as a mixed state. As stated in the\n",
    "lecture notes, the postulates of quantum mechanics themselves can actually equivalently be\n",
    "formulated in terms of density operators. In this equivalent reformulation, measurements are\n",
    "described by POVMs rather than orthogonal projectors, and evolution is described by quantum\n",
    "channels rather than unitary operators. A physical system that interacts with an environment\n",
    "that we cannot observe directly is called an **open quantum system**. We typically do not\n",
    "want to write down the combined state describing the physical system and its environment,\n",
    "but only limit our attention to the physical system we are interested in. The state of such\n",
    "an open system is then conveniently described by its density operator.\n",
    "\n",
    "Although it is equivalent to the more familiar formulation of quantum mechanics in terms of\n",
    "pure states, the significance of the density operator formalism becomes immediately aparent\n",
    "when considering the simple fact that *every quantum system encountered in the real world is\n",
    "an open quantum system*. No matter how carefully one tries to isolate a quantum system from\n",
    "its environment in an experiment, there will always be some coupling between the system and\n",
    "the outside world that can never be eliminated. Since any practical quantum system is always\n",
    "entangled with its environment causing it to decohere, tools for directly simulating the\n",
    "dynamics of open quantum systems are essential for understanding the behavior of real-world\n",
    "quantum devices.\n",
    "\n",
    "In addition, for any system system of significance, an exact analytical description for the\n",
    "its dynamics simply does not exist. Any description of such a system must therefore resort\n",
    "to numerical tools to solve the equations governing the dynamics. While this task of\n",
    "numerically simulating quantum systems is inherently exponentially difficult on classical\n",
    "hardware, it is still an essential tool in the design and benchmarking of near-term quantum\n",
    "devices built from semiconductor quantum dots, trapped ions, superconducting circuits, and\n",
    "many more. As such, a lot of time and effort is being put into developing software that does\n",
    "just this.\n",
    "\n",
    "This notebook introduces some aspects of simulating open quantum systems using the\n",
    "[QuTiP software package](http://qutip.org/). The material covered here has been mostly\n",
    "adapted from the [QuTiP documentation](https://qutip.readthedocs.io/en/latest/index.html)\n",
    "and the corresponding [tutorial notebooks](https://qutip.org/qutip-tutorials/)."
   ]
  },
  {
   "cell_type": "markdown",
   "metadata": {},
   "source": [
    "### Dynamics in opens systems <a name=\"open_dynamics\"></a>"
   ]
  },
  {
   "cell_type": "markdown",
   "metadata": {},
   "source": [
    "While there is much to be said about the quantum mechanical description of open systems, we\n",
    "will focus on their **dynamics**.\n",
    "\n",
    "The dynamics of a closed quantum system is governed by the familiar Schrödinger equation\n",
    "\n",
    "$$\n",
    "i\\hbar\\frac{\\partial}{\\partial t}|\\psi\\rangle = H |\\psi\\rangle,\n",
    "$$\n",
    "\n",
    "where $|\\psi\\rangle$ is the state vector of the system and $H$ is the Hamiltonian. In general,\n",
    "the Schrödinger equation is a partial differential equation (PDE) where both $|\\psi\\rangle$\n",
    "and $H$ are functions of space and time. If we can diagonalize the Hamiltonian in some\n",
    "appropriate basis at each time, we can in principle solve the Schrödinger equation exactly.\n",
    "In practice, performing this diagonalization numerically is difficult unless the size of the\n",
    "Hilbert space is small, and one has to resort to approximation techniques for larger\n",
    "systems.\n",
    "\n",
    "Since the synamics of the state vector in a closed system is described by a PDE formulated\n",
    "in terms of a well-defined Hamiltonian, its evolution is deterministic. In contrast, the\n",
    "dynamics of open quantum systems is in essence *stochastic* in nature. Intuitively, the\n",
    "effect of an environment on the system of interest can be understood as inducing stochastic\n",
    "transitions between energy levels, and introducing uncertainty in the phase difference\n",
    "between states of the system. These effects are captured in the equations that govern the\n",
    "dynamics of open quantum systems.\n",
    "\n",
    "Consider first the combined quantum system consisting of our subsystem of interest and its\n",
    "environment. This combined system is by definition closed, and the time-evolution of its\n",
    "density operator $\\rho_{\\rm tot}(t) = |\\psi(t)\\rangle_{\\rm tot} \\langle \\psi(t)|_{\\rm tot}$\n",
    "follows directly from the Schrödinger equation and is given by\n",
    "\n",
    "$$\\dot \\rho_{\\rm tot}(t) = -\\frac{i}{\\hbar}[H_{\\rm tot}, \\rho_{\\rm tot}(t)],$$\n",
    "\n",
    "where the total Hamiltonian\n",
    "\n",
    "$$H_{\\rm tot} = H_{\\rm sys} + H_{\\rm env} + H_{\\rm int},$$\n",
    "\n",
    "includes the interactions within the system of interest $H_{\\rm sys}$, the interactions\n",
    "within the environment $H_{\\rm env}$, and a term representing the interaction between the\n",
    "system and its environment $H_{\\rm int}$. To obtain the dynamics we are interested in,\n",
    "namely the dynamics of the reduced density matrix of our original subsystem $\\rho = {\\rm\n",
    "tr}_{\\rm env}\\left(\\rho_{\\rm tot}\\right)$, we need to trace out all the environment degrees\n",
    "of freedom in the evolution equation of the full system density matrix. This process results\n",
    "in what we call the **Lindblad master equation**\n",
    "\n",
    "$$\\dot\\rho(t)=-\\frac{i}{\\hbar}[H(t),\\rho(t)]+ \\sum_n \\gamma_n \\left(L_n \\rho(t) L_n^\\dagger\n",
    "- \\frac{1}{2} \\{L_n^\\dagger L_n, \\rho(t)\\} \\right)$$\n",
    "\n",
    "This is the most general trace-preserving and completely positive form for the evolution of\n",
    "reduced density matrices In this expression, the operators $L_n$ are called **jump\n",
    "operators**. These precisely represent the stochastic jumps in the system induced due to the\n",
    "interactions with the environment that we refered to above. The $\\gamma_n$ encode the rates\n",
    "at which the system undergoes these jumps, and are therefore a measure for how 'noisy' the\n",
    "system is. A derivation of this equation and a discussion of the assumptions that go into\n",
    "the derivation is beyond the scope of our current dicussion, but can for example be found\n",
    "[here](https://arxiv.org/abs/1906.04478). We only note that, in order for the Lindblad\n",
    "master equation to be valid, it is important that the decay rates $\\gamma_n$ are smaller\n",
    "than the minimum energy splitting in the system Hamiltonian.\n",
    "\n",
    "Simulating the dynamics of a realistic noisy quantum system undergoing decoherence processes\n",
    "then comes down to numerically integrating the Lindblad master equation.\n"
   ]
  },
  {
   "cell_type": "markdown",
   "metadata": {},
   "source": [
    "## Simulating open quantum systems <a name=\"open_simulation\"></a>"
   ]
  },
  {
   "cell_type": "markdown",
   "metadata": {},
   "source": [
    "Throughout the rest of this notebook, we will make use of the [QuTiP python package](https://qutip.readthedocs.io/en/latest/index.html) and its [quantum information processing module](https://qutip-qip.readthedocs.io/en/stable/index.html). It provides all the functionalities we require here.\n",
    "\n",
    "<div class=\"alert alert-block alert-info\"> <b>From the qutip documentation:</b> <i>The Quantum Toolbox in Python, or QuTiP, is an open-source framework written in the Python programming language, designed for simulating the dynamics of open quantum systems.</i> </div>"
   ]
  },
  {
   "cell_type": "markdown",
   "metadata": {
    "vscode": {
     "languageId": "plaintext"
    }
   },
   "source": [
    "### Basic quantum objects and operations <a name=\"qobjects\"></a>"
   ]
  },
  {
   "cell_type": "markdown",
   "metadata": {},
   "source": [
    "Before moving on to any actual simulations, let's first go through a few of the QuTiP basics we will need. You can find a more in-depth tutorial [here](https://nbviewer.org/urls/qutip.org/qutip-tutorials/tutorials-v5/lectures/Lecture-0-Introduction-to-QuTiP.ipynb)."
   ]
  },
  {
   "cell_type": "code",
   "execution_count": null,
   "metadata": {},
   "outputs": [],
   "source": [
    "import qutip as qt"
   ]
  },
  {
   "cell_type": "markdown",
   "metadata": {},
   "source": [
    "##### [Quantum states](https://qutip.readthedocs.io/en/latest/apidoc/functions.html#module-qutip.core.states)"
   ]
  },
  {
   "cell_type": "markdown",
   "metadata": {},
   "source": [
    "##### State vectors"
   ]
  },
  {
   "cell_type": "markdown",
   "metadata": {},
   "source": [
    "Let's start our discussion by considering the state of a single qubit, which lives in a two-dimensional Hilbert space spanned by the basis $\\{|0\\rangle, |1\\rangle\\}$. In QuTiP, a basis state can be initialized through the [`basis` function](https://qutip.readthedocs.io/en/qutip-5.0.x/apidoc/functions.html#qutip.core.states.basis), by supplying the total Hilbert space dimension as well as the integer label of the basis state. For example, the state $|1\\rangle$ can be created as follows."
   ]
  },
  {
   "cell_type": "code",
   "execution_count": null,
   "metadata": {},
   "outputs": [],
   "source": [
    "b = qt.basis(2, 1)  # equivalent to fock(N, n)\n",
    "b"
   ]
  },
  {
   "cell_type": "markdown",
   "metadata": {},
   "source": [
    "This basis state is an instance of a the `Qobj` type defined in QuTip. Using our basis state we can inspect some [basic properties of `Qobj` instances](https://qutip.readthedocs.io/en/latest/guide/guide-basics.html#the-quantum-object-class)."
   ]
  },
  {
   "cell_type": "code",
   "execution_count": null,
   "metadata": {},
   "outputs": [],
   "source": [
    "# the dimension, which encodes composite Hilbert state space structure\n",
    "b.dims"
   ]
  },
  {
   "cell_type": "code",
   "execution_count": null,
   "metadata": {},
   "outputs": [],
   "source": [
    "# the shape of the internal matrix data representation\n",
    "b.shape"
   ]
  },
  {
   "cell_type": "code",
   "execution_count": null,
   "metadata": {},
   "outputs": [],
   "source": [
    "# the matrix data itself, in some internal format\n",
    "b.data"
   ]
  },
  {
   "cell_type": "code",
   "execution_count": null,
   "metadata": {},
   "outputs": [],
   "source": [
    "# get the dense matrix representation\n",
    "b.full()"
   ]
  },
  {
   "cell_type": "code",
   "execution_count": null,
   "metadata": {},
   "outputs": [],
   "source": [
    "# some additional properties\n",
    "b.isherm, b.type"
   ]
  },
  {
   "cell_type": "markdown",
   "metadata": {},
   "source": [
    "In particular, we can take the adjoint of a regular 'ket' quantum state to obtain its dual 'bra' operator using the [`dag` method](https://qutip.readthedocs.io/en/stable/apidoc/classes.html#qutip.core.qobj.Qobj.diag)."
   ]
  },
  {
   "cell_type": "code",
   "execution_count": null,
   "metadata": {},
   "outputs": [],
   "source": [
    "# dagger turns a ket into a bra\n",
    "b.dag()"
   ]
  },
  {
   "cell_type": "markdown",
   "metadata": {},
   "source": [
    "##### Density operators"
   ]
  },
  {
   "cell_type": "markdown",
   "metadata": {},
   "source": [
    "Instances of `Qobj` can not only represent state vectors, but also density operators as well as more general operators. For example, the density operator corresponding to our basis state `b` can be obtained as:"
   ]
  },
  {
   "cell_type": "code",
   "execution_count": null,
   "metadata": {},
   "outputs": [],
   "source": [
    "# pure state density matrix\n",
    "rho = b * b.dag()\n",
    "rho # is a Hermitian operator"
   ]
  },
  {
   "cell_type": "code",
   "execution_count": null,
   "metadata": {},
   "outputs": [],
   "source": [
    "# with unit trace\n",
    "rho.tr()"
   ]
  },
  {
   "cell_type": "markdown",
   "metadata": {},
   "source": [
    "#### [Operators](https://qutip.readthedocs.io/en/latest/apidoc/functions.html#module-qutip.core.operators)"
   ]
  },
  {
   "cell_type": "markdown",
   "metadata": {},
   "source": [
    "QuTiP directly exports some basic quantum operators, such as the familiar Pauli operators:"
   ]
  },
  {
   "cell_type": "code",
   "execution_count": null,
   "metadata": {},
   "outputs": [],
   "source": [
    "# Pauli X\n",
    "qt.sigmax()"
   ]
  },
  {
   "cell_type": "code",
   "execution_count": null,
   "metadata": {},
   "outputs": [],
   "source": [
    "# Pauli Y\n",
    "qt.sigmay()"
   ]
  },
  {
   "cell_type": "code",
   "execution_count": null,
   "metadata": {},
   "outputs": [],
   "source": [
    "# Pauli Z\n",
    "qt.sigmay()"
   ]
  },
  {
   "cell_type": "markdown",
   "metadata": {},
   "source": [
    "A more exhaustive set of elementary gates is provided by the [`qutip_qip` module](https://qutip-qip.readthedocs.io/en/stable/apidoc/qutip_qip.operations.html#) for quantum information processing built on top of QuTiP."
   ]
  },
  {
   "cell_type": "markdown",
   "metadata": {},
   "source": [
    "#### [Tensor products](https://qutip.readthedocs.io/en/latest/apidoc/functions.html#module-qutip.core.tensor)"
   ]
  },
  {
   "cell_type": "markdown",
   "metadata": {},
   "source": [
    "To work with composite systems, we can take tensor products of quantum objects using the [`tensor` function](https://qutip.readthedocs.io/en/latest/apidoc/functions.html#qutip.core.tensor.tensor). For example, the three-qubit state $|1\\rangle \\otimes |1\\rangle \\otimes |1\\rangle$ can be created as:"
   ]
  },
  {
   "cell_type": "code",
   "execution_count": null,
   "metadata": {},
   "outputs": [],
   "source": [
    "bbb = qt.tensor(b, b, b)\n",
    "bbb # note the dims field reflects the composite structure"
   ]
  },
  {
   "cell_type": "markdown",
   "metadata": {},
   "source": [
    "Similarly, a composite operator $X \\otimes I \\otimes Y$ can be created as:"
   ]
  },
  {
   "cell_type": "code",
   "execution_count": null,
   "metadata": {},
   "outputs": [],
   "source": [
    "XIY = qt.tensor(qt.sigmax(), qt.qeye(2), qt.sigmay())\n",
    "XIY # note the dims field reflects the composite structure"
   ]
  },
  {
   "cell_type": "markdown",
   "metadata": {},
   "source": [
    "Operators can be applied to states by using the `*` operator."
   ]
  },
  {
   "cell_type": "code",
   "execution_count": null,
   "metadata": {},
   "outputs": [],
   "source": [
    "XIY * bbb"
   ]
  },
  {
   "cell_type": "markdown",
   "metadata": {},
   "source": [
    "### Solving the master equation with Qutip <a name=\"master_eq\"></a>"
   ]
  },
  {
   "cell_type": "code",
   "execution_count": null,
   "metadata": {},
   "outputs": [],
   "source": [
    "import numpy as np\n",
    "import matplotlib.pyplot as plt"
   ]
  },
  {
   "cell_type": "markdown",
   "metadata": {},
   "source": [
    "QuTiP is designed to make it easy to simulate the dynamics of open quantum systems. It exports a solver for the Lindblad master equation through the [`mesolve` function](https://qutip.readthedocs.io/en/latest/apidoc/functions.html#qutip.solver.mesolve.mesolve) function. This function integrates the Lindblad master equation for a given Hamiltonian, a set of jump operators and decay rates, and returns the time-evolution of the density matrix for the system. In particular, its calling syntax is:\n",
    "\n",
    "```python\n",
    "mesolve(H, rho0, tlist, c_ops=None, e_ops=None)\n",
    "```\n",
    "\n",
    "To use it, we need a Hamiltian `H`, an initial state `rho0`, a list `tlist` of times for which we want the integration result, a list `c_ops` of so-called **collapse operators**, and a list `e_ops` of operators to measure at each time in `tlist`. The collapse operators $C_n$ are nothing more than the product of the jump operators and the square root of the decay rates, $C_n := \\sqrt{\\gamma_n} L_n$."
   ]
  },
  {
   "cell_type": "markdown",
   "metadata": {},
   "source": [
    "As a very simple example of simulating open quantum dynamics with `mesolve`, we will consider time evolution of a single spin-1/2 particle with a tunneling rate $R$ that is initially in the up-state $|0\\rangle$, which dissipates energy to its environment at a rate $\\gamma$.\n",
    "\n",
    "The Hamiltonian of this system is given by\n",
    "$$H = 2\\pi R \\sigma_x,$$\n",
    "where we will set the tunneling rate to to be $R=0.1$ in our example. The energy dissipation to the environment can be modeled as a relaxation process corresponding to a jump operator $L = \\sigma_x$, and we will set the corresponding relaxation rate at $\\gamma = 0.05$.\n",
    "\n",
    "We will simulate the time evolution of this system up to a total time total time of $t=10$, where we will track the time evolution of the expectation value of the operators $\\sigma_z$ and $\\sigma_y$ throughout 100 steps along the time evolution.\n",
    "\n",
    "The `mesolve` documentation provides us with all the information we need to actually do this."
   ]
  },
  {
   "cell_type": "code",
   "execution_count": null,
   "metadata": {},
   "outputs": [],
   "source": [
    "times = np.linspace(0.0, 10.0, 100)\n",
    "\n",
    "H = 2*np.pi * 0.1 * qt.sigmax()\n",
    "rho0 = qt.basis(2, 0) * qt.basis(2, 0).dag()\n",
    "c_ops = [np.sqrt(0.05) * qt.sigmax()]\n",
    "e_ops = [qt.sigmaz(), qt.sigmay()]\n",
    "\n",
    "result = qt.mesolve(H, rho0, times, c_ops=c_ops, e_ops=e_ops)"
   ]
  },
  {
   "cell_type": "markdown",
   "metadata": {},
   "source": [
    "From the [QuTiP solver result](https://qutip.readthedocs.io/en/latest/apidoc/classes.html#qutip.solver.result.Result), we can plot the evolution of the expecation values of the operators $\\sigma_z$ and $\\sigma_y$ as a function of time."
   ]
  },
  {
   "cell_type": "code",
   "execution_count": null,
   "metadata": {},
   "outputs": [],
   "source": [
    "fig, ax = plt.subplots()\n",
    "ax.plot(times, result.expect[0])\n",
    "ax.plot(times, result.expect[1])\n",
    "ax.set_xlabel('Time')\n",
    "ax.set_ylabel('Expectation values')\n",
    "ax.legend((r\"$\\sigma_z$\", r\"$\\sigma_y$\"))\n",
    "plt.show()"
   ]
  },
  {
   "cell_type": "markdown",
   "metadata": {},
   "source": [
    "Note the oscillating behavior, with a clear decay in the amplitude of the oscillations. This is a clear signature of energy dissipation to the environment.\n",
    "\n",
    "Indeed, if we compare our result to what we would get when [integrating the Schrödinger equation](https://qutip.readthedocs.io/en/stable/apidoc/functions.html#qutip.solver.sesolve.sesolve) for the same system, ignoring the dissipation, we would see that the oscillations would continue indefinitely."
   ]
  },
  {
   "cell_type": "code",
   "execution_count": null,
   "metadata": {},
   "outputs": [],
   "source": [
    "noiseless_result = qt.sesolve(H, qt.basis(2, 0), times, e_ops=e_ops)\n",
    "fig, ax = plt.subplots()\n",
    "ax.plot(noiseless_result.times, noiseless_result.expect[0])\n",
    "ax.plot(noiseless_result.times, noiseless_result.expect[1])\n",
    "ax.set_xlabel('Time')\n",
    "ax.set_ylabel('Expectation values')\n",
    "ax.legend((r\"$\\sigma_z$\", r\"$\\sigma_y$\"))\n",
    "plt.show()"
   ]
  },
  {
   "cell_type": "markdown",
   "metadata": {},
   "source": [
    "In the following, we will move away from directly simulating a physical system by defining its Hamiltonian manually, and instead focus on an example of a simple quantum circuit. While we will not use `mesolve` directly in this example, the QuTiP framework that simulates the execution of such a quantum circuit on a noisy device usees `mesolve` under the hood."
   ]
  },
  {
   "cell_type": "markdown",
   "metadata": {},
   "source": [
    "## Example: the quantum teleportation circuit <a name=\"example1\"></a>"
   ]
  },
  {
   "cell_type": "markdown",
   "metadata": {},
   "source": [
    "After this general introduction to dynamics in open quantum systems, we will now move on to a concrete example that is more relevant to the course, namely the quantum teleportation circuit. This simple 3-qubit circuit contains only basic quantum gates and measurements, making it an ideal test case.\n",
    "\n",
    "We will start by implementing the circuit\n",
    "\n",
    "<center><img src=\"./fig/teleportation.svg\" alt=\"teleportation\"/></center>\n",
    "\n",
    "\n",
    "from the lecture notes in QuTiP. We will then use this circuit to perform a very basic *gate-level simulation*, to demonstrate the use of numerical tools for analytically analyzing circuits. In the next section, we will look at what a more realistic simulation of the same circuit when it is actually executed on a quantum device would look like."
   ]
  },
  {
   "cell_type": "markdown",
   "metadata": {},
   "source": [
    "### Defining a quantum circuit <a name=\"teleportation\"></a>"
   ]
  },
  {
   "cell_type": "code",
   "execution_count": null,
   "metadata": {},
   "outputs": [],
   "source": [
    "from qutip_qip.circuit import QubitCircuit\n",
    "from math import sqrt"
   ]
  },
  {
   "cell_type": "markdown",
   "metadata": {},
   "source": [
    "A quantum circuit can be represented in QuTiP as an instance of the [`QubitCircuit` class](https://qutip-qip.readthedocs.io/en/stable/apidoc/qutip_qip.circuit.html#qutip_qip.circuit.QubitCircuit). After initializing an empty `QubitCicuit` with the appropriate nummber of qubits, we can add the gates and measurements in the circuit one by one using the [`add_gate`](https://qutip-qip.readthedocs.io/en/stable/apidoc/qutip_qip.circuit.html#qutip_qip.circuit.QubitCircuit.add_gate) and [`add_measurement`](https://qutip-qip.readthedocs.io/en/stable/apidoc/qutip_qip.circuit.html#qutip_qip.circuit.QubitCircuit.add_measurement) methods.\n",
    "\n",
    "A list of available buitin gates can be found [here](https://qutip-qip.readthedocs.io/en/stable/qip-basics.html#gates).\n",
    "\n",
    "For our example, we will require the \"SNOT\" gate representing a single-qubit Hadamard gate, the \"CNOT\" gate representing a controlled-$X$ gate, and the \"CSIGN\" gate representing a controlled-$Z$ gate. We will also need to add measurements to the circuit."
   ]
  },
  {
   "cell_type": "markdown",
   "metadata": {},
   "source": [
    "The circuit consists of three qubits which we will label $0$, $1$ and $2$. Qubits $0$ and $1$ belong to Alice and are initialized in the states $|\\psi\\rangle$ and $|0\\rangle$, respectively, where $|\\psi\\rangle$ is the state Alice intends to teleport to Bob. Qubit $2$ belongs to Bob is initialized in the state $|0\\rangle$.\n",
    "\n",
    "We start by initializing an empty circuit, annotating the initial state of the three qubits:"
   ]
  },
  {
   "cell_type": "code",
   "execution_count": null,
   "metadata": {},
   "outputs": [],
   "source": [
    "teleportation = QubitCircuit(3, input_states=[r\"\\psi_A\", r\"0_A\", r\"0_B\"])"
   ]
  },
  {
   "cell_type": "markdown",
   "metadata": {},
   "source": [
    "The first step of the circuits consists of encoding Bell state between Alice and Bob's ancilla $|0\\rangle$ states (where one qubit of the pair is then given to each of them):"
   ]
  },
  {
   "cell_type": "code",
   "execution_count": null,
   "metadata": {},
   "outputs": [],
   "source": [
    "teleportation.add_gate(\"SNOT\", targets=[1])\n",
    "teleportation.add_gate(\"CNOT\", targets=[2], controls=[1])"
   ]
  },
  {
   "cell_type": "markdown",
   "metadata": {},
   "source": [
    "In a second step, Alice entangles her part of the Bell state with the state to be teleported:"
   ]
  },
  {
   "cell_type": "code",
   "execution_count": null,
   "metadata": {},
   "outputs": [],
   "source": [
    "teleportation.add_gate(\"CNOT\", targets=[1], controls=[0])\n",
    "teleportation.add_gate(\"SNOT\", targets=[0])"
   ]
  },
  {
   "cell_type": "markdown",
   "metadata": {},
   "source": [
    "Finally, Alice measures her two qubits in the computational basis, and communicates the result to Bob. Conditioned on the measurement result, Bob then applies and $X$ and/or $Z$ to his qubit to obtain the state $|\\psi\\rangle$. This procedure can equivalently be formulated in terms of controlloed operations between Alice's two qubits and Bob's qubit, with a delayed measurement at the end:"
   ]
  },
  {
   "cell_type": "code",
   "execution_count": null,
   "metadata": {},
   "outputs": [],
   "source": [
    "teleportation.add_gate(\"CNOT\", targets=[2], controls=[1])\n",
    "teleportation.add_gate(\"CSIGN\", targets=[2], controls=[0])\n",
    "\n",
    "teleportation.add_measurement(\"M0\", targets=[0])\n",
    "teleportation.add_measurement(\"M1\", targets=[1])"
   ]
  },
  {
   "cell_type": "markdown",
   "metadata": {},
   "source": [
    "We can plot our `teleportation` circuit to see if it is correct:"
   ]
  },
  {
   "cell_type": "code",
   "execution_count": null,
   "metadata": {},
   "outputs": [],
   "source": [
    "teleportation"
   ]
  },
  {
   "cell_type": "markdown",
   "metadata": {},
   "source": [
    "This should look exactly like the circuit given above, just flipped upside down."
   ]
  },
  {
   "cell_type": "markdown",
   "metadata": {},
   "source": [
    "### Gate-level circuit simulation <a name=\"gates\"></a>"
   ]
  },
  {
   "cell_type": "markdown",
   "metadata": {},
   "source": [
    "The `QubitCircuit` class provides a [`run`](https://qutip-qip.readthedocs.io/en/stable/apidoc/qutip_qip.circuit.html#qutip_qip.circuit.QubitCircuit.run) method that allows us to simulate the circuit at the gate level. Given some initial state, this method returns the final state after annalytically applying all the gates and measurements in the circuit.\n",
    "\n",
    "We'll try this out for an initial state $|\\psi\\rangle = |+\\rangle$:"
   ]
  },
  {
   "cell_type": "code",
   "execution_count": null,
   "metadata": {},
   "outputs": [],
   "source": [
    "psi = 1 / sqrt(2) * qt.basis(2, 0) + 1 / sqrt(2) * qt.basis(2, 1)\n",
    "psi"
   ]
  },
  {
   "cell_type": "markdown",
   "metadata": {},
   "source": [
    "Tensoring this state with two ancillas in the $|0\\rangle$ state and passing it to `run` allows us to obtain the final state after gates and measurements."
   ]
  },
  {
   "cell_type": "code",
   "execution_count": null,
   "metadata": {},
   "outputs": [],
   "source": [
    "state_initial = qt.tensor(psi, qt.basis(2, 0), qt.basis(2, 0))  \n",
    "state_final = teleportation.run(state_initial)\n",
    "state_final # the final state will be different between runs, depending on the measurement outcomes"
   ]
  },
  {
   "cell_type": "markdown",
   "metadata": {},
   "source": [
    "We can check if the teleportation worked by checking if Bob actually ends up with a $|+\\rangle> state. We can do this by constructing a projector $I \\otimes I \\otimes |+\\rangle\\langle+|$ which projects Bob's qubit onto the $|+\\rangle$ state, and computing its expectation value."
   ]
  },
  {
   "cell_type": "code",
   "execution_count": null,
   "metadata": {},
   "outputs": [],
   "source": [
    "P = qt.tensor(qt.qeye(2), qt.qeye(2), psi * psi.dag())\n",
    "print(f\"Overlap between initial and teleported state: {state_final.dag() * P * state_final}\")"
   ]
  },
  {
   "cell_type": "markdown",
   "metadata": {},
   "source": [
    "This will always work, regardless of the actual measurement outcome or the initial state. You can try some other initial states and investigate the [`run` statistics](https://qutip-qip.readthedocs.io/en/stable/apidoc/qutip_qip.circuit.html?highlight=run_statistics#qutip_qip.circuit.CircuitSimulator.run_statistics) to verify this."
   ]
  },
  {
   "cell_type": "markdown",
   "metadata": {},
   "source": [
    "## Example: pulse sequences and noisy components <a name=\"example2\"></a>"
   ]
  },
  {
   "cell_type": "markdown",
   "metadata": {},
   "source": [
    "An analytic circuit simulation like the one we just did can come in handy sometimes.\n",
    "However, it is not very representative of the result of actually running this circuit on a\n",
    "physical device, as we will discuss next."
   ]
  },
  {
   "cell_type": "markdown",
   "metadata": {},
   "source": [
    "### Implementing a circuit on a quantum device <a name=\"devices\"></a>"
   ]
  },
  {
   "cell_type": "markdown",
   "metadata": {},
   "source": [
    "We have seen many circuits throughout the lectures, but we have never really considered how\n",
    "a quantum circuit actually executed on a physical devices.\n",
    "\n",
    "The quantum circuits we have considered act on qubits, which are abstract objects\n",
    "representing the simplest two-level quantum system. Various hardware platforms have been\n",
    "devised which can serve as a physical realization of these abstract entities, including\n",
    "superconducting systems, trapped ions, neutral atoms and semiconductor quantum dots. A real\n",
    "quantum computer consists of a collection of these physical qubits, which can be\n",
    "individually controlled as well as coupled along the connections dictated by the device\n",
    "geometry. Running a quantum circuit consisting of some set of gates on such a device then\n",
    "similarly requires a physical implementation of these gates. To this end, a given circuit is\n",
    "typically compiled to a sequence of control pulses that drive the physical components and\n",
    "their couplings. These pulses implement time-dependent interactions, the nature of which\n",
    "depends on the specific hardware platform, and are chosen in such a way that the\n",
    "corresponding dynamics precisely implement the appropriate gate sequence on the physical\n",
    "level.\n",
    "\n",
    "Since any real component is inherently subject to noise and dissipation, we conclude that\n",
    "studying the execution of circuits on real quantum devices corresponds to studying the\n",
    "time-dependent dynamics of the corresponding noisy physical system as it is driven by\n",
    "control pulses. As an example of this, we will simulate the execution of the above\n",
    "teleportation circuit on a realistic device\n",
    "[using QuTiP](https://qutip-qip.readthedocs.io/en/stable/qip-processor.html#pulse-level-circuit-simulation)."
   ]
  },
  {
   "cell_type": "markdown",
   "metadata": {},
   "source": [
    "In our example, we will choose a physical implementation of a qubit as a single spin-1/2 particles, which could for example correspond to a single electron in a quantom dot. In particular, we will consider a linear chain of three of these spin qubits as our complete physical system. In QuTiP, such a system is represented as a [`LinearSpinChain`](https://qutip-qip.readthedocs.io/en/stable/apidoc/qutip_qip.device.html#qutip_qip.device.LinearSpinChain).\n",
    "\n",
    "The dynamics of this spin chain can be controlled through a [time-dependent Hamiltonian](https://qutip-qip.readthedocs.io/en/stable/apidoc/qutip_qip.device.html#qutip_qip.device.SpinChainModel) of the form\n",
    "$$\n",
    "H=\n",
    "\\sum_{j=0}^{N-1}\n",
    "\\Omega^x_{j}(t) \\sigma^x_{j} +\n",
    "\\Omega^z_{j}(t) \\sigma^z_{j} + \\sum_{j=0}^{N-2}\n",
    "g_{j}(t)\n",
    "(\\sigma^x_{j}\\sigma^x_{j+1}+\n",
    "\\sigma^y_{j}\\sigma^y_{j+1}).\n",
    "$$\n",
    "To run a circuit on this device, it is transformed into a time sequence of control pulses that encode the values of the prefactors $\\Omega^x_{j}(t)$ and $\\Omega^z_{j}(t)$ of the single-qubit drives $\\sigma_j^x$ and $\\sigma_j^z$, and the coupling strengths $g_{j}(t)$ of the nearest-neighbor interation $\\sigma^x_{j}\\sigma^x_{j+1}+\\sigma^y_{j}\\sigma^y_{j+1}$ at each time step.\n",
    "\n",
    "We can convert our teleportation circuit to a pulse sequence on a `LinearSpinChain` using the [`load_circuit` method](https://qutip-qip.readthedocs.io/en/stable/apidoc/qutip_qip.device.html#qutip_qip.device.LinearSpinChain.load_circuit)."
   ]
  },
  {
   "cell_type": "code",
   "execution_count": null,
   "metadata": {},
   "outputs": [],
   "source": [
    "from qutip_qip.device import LinearSpinChain"
   ]
  },
  {
   "cell_type": "code",
   "execution_count": null,
   "metadata": {},
   "outputs": [],
   "source": [
    "# remove measurements, these are not really relevant right now\n",
    "teleportation.remove_gate_or_measurement(name=\"M0\")\n",
    "teleportation.remove_gate_or_measurement(name=\"M1\")\n",
    "\n",
    "# initialize device and load circuit for compilation\n",
    "processor = LinearSpinChain(3)\n",
    "processor.load_circuit(teleportation);"
   ]
  },
  {
   "cell_type": "markdown",
   "metadata": {},
   "source": [
    "Once we have our device and loaded in the circuit, we can simply plot the corresponding pulse sequence:"
   ]
  },
  {
   "cell_type": "code",
   "execution_count": null,
   "metadata": {},
   "outputs": [],
   "source": [
    "fig, ax = processor.plot_pulses(figsize=(8, 5))\n",
    "ax[-1].set_xlabel(\"$t$\")\n",
    "fig.show()"
   ]
  },
  {
   "cell_type": "markdown",
   "metadata": {},
   "source": [
    "Given our device and a circuit, we can simulate its execution on the device using the [`run_state` method](https://qutip-qip.readthedocs.io/en/stable/apidoc/qutip_qip.device.html#qutip_qip.device.Processor.run_state). This can either be done analytically, or by integrating the time-dependent pulse dynamics using `mesolve`"
   ]
  },
  {
   "cell_type": "code",
   "execution_count": null,
   "metadata": {},
   "outputs": [],
   "source": [
    "# regular gate-level circuit run\n",
    "state_final1 = teleportation.run(state_initial)\n",
    "\n",
    "# analytic device run\n",
    "propagators = processor.run_state(state_initial, analytical=True)\n",
    "state_final2 = propagators[0]\n",
    "for U in propagators[1:]:\n",
    "    state_final2 = U * state_final2\n",
    "print(f\"Fidelity between gate-level and analytical run: {qt.fidelity(state_final1, state_final2)}\") # perfect\n",
    "\n",
    "# pulse-level device run\n",
    "state_final3 = processor.run_state(state_initial).states[-1]\n",
    "print(f\"Fidelity between gate-level and pulse-level run: {qt.fidelity(state_final1, state_final3)}\") # very good"
   ]
  },
  {
   "cell_type": "markdown",
   "metadata": {},
   "source": [
    "At this point, we have not yet considered noise in the device. Indeed, we see that even when integrating the pulse-level dynamics the result lies very close to the analytical expectation."
   ]
  },
  {
   "cell_type": "code",
   "execution_count": null,
   "metadata": {},
   "outputs": [],
   "source": [
    "processor.get_noise() # no actual noise by default"
   ]
  },
  {
   "cell_type": "markdown",
   "metadata": {},
   "source": [
    "### Noisy pulse-level circuit simulation <a name=\"noise\"></a>"
   ]
  },
  {
   "cell_type": "code",
   "execution_count": null,
   "metadata": {},
   "outputs": [],
   "source": [
    "from qutip_qip.noise import RelaxationNoise, RandomNoise"
   ]
  },
  {
   "cell_type": "markdown",
   "metadata": {},
   "source": [
    "To actually make our simulations realistic, we should [take into account the noise](https://qutip-qip.readthedocs.io/en/stable/qip-processor.html#noise-simulation) that will actually occur in the device. This noise will then be reflected as jump operators in the master equation that cause the system to decohere, and decrease the resulting fidelity of the teleportation circuit. To see this, we will repeat the above simulation where we will now take into account two types of noise."
   ]
  },
  {
   "cell_type": "markdown",
   "metadata": {},
   "source": [
    "The first type is physical *relaxation noise* caused by the inevitable interactions of our spin qubits with their environment. This type of noise is usually modeled in terms of two 'lifetimes' of a qubit, namely the coherence time $t_1$ and the dephasing time $t_2$.\n",
    "\n",
    "Physically, these two times directly dictate the decay rates of two Lindblad jump operators:\n",
    "- the decoherence operator $L = \\sigma^-$ with rate $1/\\sqrt{t_1}$, where $a$ is the bosonic destruction operator for an $n$-level system\n",
    "- dephasing operator $L = \\sigma^+ \\sigma^-$ with rate $\\sqrt{2/t_2^*}$, where $a^+ a^- = \\hat n$ is the bosonic number operator for an $n$-level system and $t_2^*$ is the pure dephasing time given by $1/t_2^* = 1/t_2 - 1/(2t_1)$\n",
    "\n",
    "This type of noise can be modeled through the [`RelaxationNoise`](https://qutip-qip.readthedocs.io/en/stable/apidoc/qutip_qip.noise.html#qutip_qip.noise.RelaxationNoise) class which takes these two lifetimes as input."
   ]
  },
  {
   "cell_type": "code",
   "execution_count": null,
   "metadata": {},
   "outputs": [],
   "source": [
    "relaxation_noise = RelaxationNoise(t1=52., t2=77.) # lifetimes correspond to an actual IBM device spec"
   ]
  },
  {
   "cell_type": "markdown",
   "metadata": {},
   "source": [
    "The second type of noise is control pulse amplitude noise, and corresponds to random fluctuations in the amplitude of the control pulse signals we have plotten before. This type of noise can be modeled through the [`RandomNoise`](https://qutip-qip.readthedocs.io/en/stable/apidoc/qutip_qip.noise.html#qutip_qip.noise.RandomNoise) class as:"
   ]
  },
  {
   "cell_type": "code",
   "execution_count": null,
   "metadata": {},
   "outputs": [],
   "source": [
    "control_noise = RandomNoise(\n",
    "    dt=0.01, rand_gen=np.random.normal, loc=0.00, scale=0.02) # realistic control pulse noise"
   ]
  },
  {
   "cell_type": "markdown",
   "metadata": {},
   "source": [
    "We can then add this noise to our device, repeat the pulse-level simulation and compare the resulting fidelity to what we obtained before."
   ]
  },
  {
   "cell_type": "code",
   "execution_count": null,
   "metadata": {},
   "outputs": [],
   "source": [
    "processor.add_noise(relaxation_noise)\n",
    "processor.add_noise(control_noise)\n",
    "processor.get_noise()"
   ]
  },
  {
   "cell_type": "code",
   "execution_count": null,
   "metadata": {},
   "outputs": [],
   "source": [
    "state_final4 = processor.run_state(state_initial).states[-1]\n",
    "print(f\"Fidelity between gate-level and noisy pulse-level run: {qt.fidelity(state_final1, state_final4)}\")"
   ]
  },
  {
   "cell_type": "markdown",
   "metadata": {},
   "source": [
    "This fidelity is a lot lower than what we obtained before. Indeed, physical noise in quantum poses a formidable challenge to any sizeable quantum computation!"
   ]
  },
  {
   "cell_type": "markdown",
   "metadata": {},
   "source": []
  }
 ],
 "metadata": {
  "kernelspec": {
   "display_name": "Python 3 (ipykernel)",
   "language": "python",
   "name": "python3"
  },
  "language_info": {
   "codemirror_mode": {
    "name": "ipython",
    "version": 3
   },
   "file_extension": ".py",
   "mimetype": "text/x-python",
   "name": "python",
   "nbconvert_exporter": "python",
   "pygments_lexer": "ipython3",
   "version": "3.8.3"
  }
 },
 "nbformat": 4,
 "nbformat_minor": 4
}
